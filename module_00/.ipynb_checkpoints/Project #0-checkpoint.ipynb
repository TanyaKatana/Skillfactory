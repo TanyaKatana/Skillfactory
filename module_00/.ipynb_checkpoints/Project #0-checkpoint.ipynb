{
 "cells": [
  {
   "cell_type": "code",
   "execution_count": 5,
   "metadata": {},
   "outputs": [
    {
     "name": "stdout",
     "output_type": "stream",
     "text": [
      "Ваш алгоритм угадывает число в среднем за 6 попыток\n"
     ]
    }
   ],
   "source": [
    "import random\n",
    "import numpy\n",
    "\n",
    "\n",
    "def search(mylist,predict, start, stop):\n",
    "    \"\"\"function for count attempts\"\"\"\n",
    "    while predict != number: \n",
    "        global count\n",
    "        count += 1\n",
    "        mid = (start+stop) // 2\n",
    "        if predict == mid:\n",
    "            return count\n",
    "        elif predict<mid:\n",
    "            return search(mylist,predict, start, mid-1)\n",
    "        else:\n",
    "            return search(mylist,predict, mid+1, stop)\n",
    "    return count\n",
    "\n",
    "\n",
    "number = random.randrange(1,101)     #придумывает число\n",
    "mylist = range(1,101) # в каком диапазоне ищем\n",
    "start = 0 \n",
    "stop = len(mylist)\n",
    "predict = random.randrange(1,101) #вводим число\n",
    "\n",
    "new_list = [] # список где хранятся результаты функции\n",
    "\n",
    "for count_range in range(1,1001): # проверяем в рэнже 1-1001\n",
    "    number = random.randrange(1,101)\n",
    "    mylist = range(1,101)\n",
    "    start = 0 \n",
    "    stop = len(mylist)\n",
    "    predict = random.randrange(1,101)\n",
    "    count = 1\n",
    "    new_list.append(search(mylist,predict,start,stop))\n",
    "\n",
    "avg = int(numpy.mean(new_list)) #среднее количество попыток\n",
    "print(f\"Ваш алгоритм угадывает число в среднем за {avg} попыток\")"
   ]
  },
  {
   "cell_type": "code",
   "execution_count": null,
   "metadata": {},
   "outputs": [],
   "source": []
  }
 ],
 "metadata": {
  "kernelspec": {
   "display_name": "Python 3",
   "language": "python",
   "name": "python3"
  },
  "language_info": {
   "codemirror_mode": {
    "name": "ipython",
    "version": 3
   },
   "file_extension": ".py",
   "mimetype": "text/x-python",
   "name": "python",
   "nbconvert_exporter": "python",
   "pygments_lexer": "ipython3",
   "version": "3.8.3"
  }
 },
 "nbformat": 4,
 "nbformat_minor": 4
}
