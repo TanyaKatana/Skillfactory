{
 "cells": [
  {
   "cell_type": "code",
   "execution_count": 535,
   "metadata": {
    "_cell_guid": "b1076dfc-b9ad-4769-8c92-a6c4dae69d19",
    "_uuid": "8f2839f25d086af736a60e9eeb907d3b93b6e0e5",
    "execution": {
     "iopub.execute_input": "2021-08-01T13:52:08.633488Z",
     "iopub.status.busy": "2021-08-01T13:52:08.633091Z",
     "iopub.status.idle": "2021-08-01T13:52:08.645659Z",
     "shell.execute_reply": "2021-08-01T13:52:08.644472Z",
     "shell.execute_reply.started": "2021-08-01T13:52:08.633453Z"
    }
   },
   "outputs": [
    {
     "name": "stdout",
     "output_type": "stream",
     "text": [
      "/kaggle/input/sf-dst-scoring/sample_submission.csv\n",
      "/kaggle/input/sf-dst-scoring/train.csv\n",
      "/kaggle/input/sf-dst-scoring/test.csv\n"
     ]
    }
   ],
   "source": [
    "#импортируем библиотеки\n",
    "\n",
    "import numpy as np # linear algebra\n",
    "import pandas as pd# data processing, CSV file I/O (e.g. pd.read_csv)\n",
    "\n",
    "# Input data files are available in the read-only \"../input/\" directory\n",
    "# For example, running this (by clicking run or pressing Shift+Enter) will list all files under the input directory\n",
    "\n",
    "import os\n",
    "for dirname, _, filenames in os.walk('/kaggle/input'):\n",
    "    for filename in filenames:\n",
    "        print(os.path.join(dirname, filename))\n",
    "\n",
    "import matplotlib.pyplot as plt\n",
    "import seaborn as sns\n",
    "\n",
    "from sklearn.feature_selection import f_classif, mutual_info_classif\n",
    "from sklearn.preprocessing import LabelEncoder, OneHotEncoder, StandardScaler\n",
    "from sklearn.preprocessing import PolynomialFeatures, OrdinalEncoder\n",
    "from sklearn.model_selection import GridSearchCV\n",
    "\n",
    "from sklearn.model_selection import train_test_split\n",
    "from sklearn.linear_model import LogisticRegression\n",
    "from catboost import CatBoostClassifier\n",
    "from sklearn.metrics import plot_confusion_matrix, plot_roc_curve, plot_precision_recall_curve\n",
    "\n",
    "\n",
    "from sklearn.metrics import confusion_matrix\n",
    "from sklearn.metrics import auc, roc_auc_score, roc_curve, f1_score, accuracy_score, recall_score, precision_score\n",
    "\n",
    "import warnings\n",
    "warnings.filterwarnings(\"ignore\")\n",
    "\n",
    "# You can write up to 20GB to the current directory (/kaggle/working/) that gets preserved as output when you create a version using \"Save & Run All\" \n",
    "# You can also write temporary files to /kaggle/temp/, but they won't be saved outside of the current session"
   ]
  },
  {
   "cell_type": "code",
   "execution_count": 536,
   "metadata": {
    "execution": {
     "iopub.execute_input": "2021-08-01T13:52:08.884841Z",
     "iopub.status.busy": "2021-08-01T13:52:08.884441Z",
     "iopub.status.idle": "2021-08-01T13:52:09.090702Z",
     "shell.execute_reply": "2021-08-01T13:52:09.089727Z",
     "shell.execute_reply.started": "2021-08-01T13:52:08.884807Z"
    }
   },
   "outputs": [],
   "source": [
    "train1 = pd.read_csv('/kaggle/input/sf-dst-scoring/train.csv')\n",
    "test1= pd.read_csv('/kaggle/input/sf-dst-scoring/test.csv')"
   ]
  },
  {
   "cell_type": "markdown",
   "metadata": {
    "execution": {
     "iopub.execute_input": "2021-06-23T11:38:53.109037Z",
     "iopub.status.busy": "2021-06-23T11:38:53.108727Z",
     "iopub.status.idle": "2021-06-23T11:38:53.117929Z",
     "shell.execute_reply": "2021-06-23T11:38:53.116801Z",
     "shell.execute_reply.started": "2021-06-23T11:38:53.109005Z"
    }
   },
   "source": [
    "Описания признаков\n",
    "\n",
    "1. client_id - идентификатор клиента\n",
    "2. education - уровень образования\n",
    "3. sex - пол заемщика\n",
    "4. age - возраст заемщика\n",
    "5. car - флаг наличия автомобиля\n",
    "6. car_type - флаг автомобиля иномарки\n",
    "7. decline_app_cnt - количество отказанных прошлых заявок\n",
    "8. good_work - флаг наличия “хорошей” работы\n",
    "9. bki_request_cnt - количество запросов в БКИ\n",
    "10. home_address - категоризатор домашнего адреса\n",
    "11. work_address - категоризатор рабочего адреса\n",
    "12. income - доход заемщика\n",
    "13. foreign_passport - наличие загранпаспорта\n",
    "14. sna - связь заемщика с клиентами банка\n",
    "15. first_time - давность наличия информации о заемщике\n",
    "16. score_bki - скоринговый балл по данным из БКИ\n",
    "17. region_rating - рейтинг региона\n",
    "18. app_date - дата подачи заявки\n",
    "19. default - флаг дефолта по кредиту"
   ]
  },
  {
   "cell_type": "code",
   "execution_count": 537,
   "metadata": {
    "execution": {
     "iopub.execute_input": "2021-08-01T13:52:09.092836Z",
     "iopub.status.busy": "2021-08-01T13:52:09.092367Z",
     "iopub.status.idle": "2021-08-01T13:52:09.136678Z",
     "shell.execute_reply": "2021-08-01T13:52:09.135725Z",
     "shell.execute_reply.started": "2021-08-01T13:52:09.092788Z"
    }
   },
   "outputs": [],
   "source": [
    "#  для корректной обработки признаков объединяем трейн и тест в один датасет\n",
    "train1['sample'] = 1 # помечаем где у нас трейн\n",
    "test1['sample'] = 0 # помечаем где у нас тест\n",
    "test1['default'] = 0 # в тесте у нас нет значения\n",
    "\n",
    "data = test1.append(train1, sort=False).reset_index(drop=True) # объединяем"
   ]
  },
  {
   "cell_type": "code",
   "execution_count": 538,
   "metadata": {
    "execution": {
     "iopub.execute_input": "2021-08-01T13:52:09.139155Z",
     "iopub.status.busy": "2021-08-01T13:52:09.138745Z",
     "iopub.status.idle": "2021-08-01T13:52:09.162712Z",
     "shell.execute_reply": "2021-08-01T13:52:09.161508Z",
     "shell.execute_reply.started": "2021-08-01T13:52:09.139114Z"
    }
   },
   "outputs": [
    {
     "data": {
      "text/html": [
       "<div>\n",
       "<style scoped>\n",
       "    .dataframe tbody tr th:only-of-type {\n",
       "        vertical-align: middle;\n",
       "    }\n",
       "\n",
       "    .dataframe tbody tr th {\n",
       "        vertical-align: top;\n",
       "    }\n",
       "\n",
       "    .dataframe thead th {\n",
       "        text-align: right;\n",
       "    }\n",
       "</style>\n",
       "<table border=\"1\" class=\"dataframe\">\n",
       "  <thead>\n",
       "    <tr style=\"text-align: right;\">\n",
       "      <th></th>\n",
       "      <th>client_id</th>\n",
       "      <th>app_date</th>\n",
       "      <th>education</th>\n",
       "      <th>sex</th>\n",
       "      <th>age</th>\n",
       "      <th>car</th>\n",
       "      <th>car_type</th>\n",
       "      <th>decline_app_cnt</th>\n",
       "      <th>good_work</th>\n",
       "      <th>score_bki</th>\n",
       "      <th>bki_request_cnt</th>\n",
       "      <th>region_rating</th>\n",
       "      <th>home_address</th>\n",
       "      <th>work_address</th>\n",
       "      <th>income</th>\n",
       "      <th>sna</th>\n",
       "      <th>first_time</th>\n",
       "      <th>foreign_passport</th>\n",
       "      <th>sample</th>\n",
       "      <th>default</th>\n",
       "    </tr>\n",
       "  </thead>\n",
       "  <tbody>\n",
       "    <tr>\n",
       "      <th>0</th>\n",
       "      <td>74835</td>\n",
       "      <td>22MAR2014</td>\n",
       "      <td>GRD</td>\n",
       "      <td>M</td>\n",
       "      <td>29</td>\n",
       "      <td>Y</td>\n",
       "      <td>Y</td>\n",
       "      <td>0</td>\n",
       "      <td>0</td>\n",
       "      <td>-2.271884</td>\n",
       "      <td>3</td>\n",
       "      <td>50</td>\n",
       "      <td>1</td>\n",
       "      <td>2</td>\n",
       "      <td>50000</td>\n",
       "      <td>1</td>\n",
       "      <td>4</td>\n",
       "      <td>N</td>\n",
       "      <td>0</td>\n",
       "      <td>0</td>\n",
       "    </tr>\n",
       "    <tr>\n",
       "      <th>1</th>\n",
       "      <td>17527</td>\n",
       "      <td>24JAN2014</td>\n",
       "      <td>SCH</td>\n",
       "      <td>F</td>\n",
       "      <td>39</td>\n",
       "      <td>N</td>\n",
       "      <td>N</td>\n",
       "      <td>5</td>\n",
       "      <td>0</td>\n",
       "      <td>-1.504999</td>\n",
       "      <td>2</td>\n",
       "      <td>50</td>\n",
       "      <td>1</td>\n",
       "      <td>2</td>\n",
       "      <td>5000</td>\n",
       "      <td>4</td>\n",
       "      <td>3</td>\n",
       "      <td>N</td>\n",
       "      <td>0</td>\n",
       "      <td>0</td>\n",
       "    </tr>\n",
       "    <tr>\n",
       "      <th>2</th>\n",
       "      <td>75683</td>\n",
       "      <td>23MAR2014</td>\n",
       "      <td>UGR</td>\n",
       "      <td>M</td>\n",
       "      <td>50</td>\n",
       "      <td>Y</td>\n",
       "      <td>Y</td>\n",
       "      <td>0</td>\n",
       "      <td>0</td>\n",
       "      <td>-1.691339</td>\n",
       "      <td>1</td>\n",
       "      <td>50</td>\n",
       "      <td>1</td>\n",
       "      <td>2</td>\n",
       "      <td>30000</td>\n",
       "      <td>1</td>\n",
       "      <td>3</td>\n",
       "      <td>Y</td>\n",
       "      <td>0</td>\n",
       "      <td>0</td>\n",
       "    </tr>\n",
       "    <tr>\n",
       "      <th>3</th>\n",
       "      <td>26883</td>\n",
       "      <td>03FEB2014</td>\n",
       "      <td>SCH</td>\n",
       "      <td>M</td>\n",
       "      <td>56</td>\n",
       "      <td>N</td>\n",
       "      <td>N</td>\n",
       "      <td>0</td>\n",
       "      <td>0</td>\n",
       "      <td>-2.374182</td>\n",
       "      <td>1</td>\n",
       "      <td>40</td>\n",
       "      <td>1</td>\n",
       "      <td>2</td>\n",
       "      <td>17000</td>\n",
       "      <td>1</td>\n",
       "      <td>3</td>\n",
       "      <td>N</td>\n",
       "      <td>0</td>\n",
       "      <td>0</td>\n",
       "    </tr>\n",
       "    <tr>\n",
       "      <th>4</th>\n",
       "      <td>28862</td>\n",
       "      <td>04FEB2014</td>\n",
       "      <td>GRD</td>\n",
       "      <td>F</td>\n",
       "      <td>38</td>\n",
       "      <td>N</td>\n",
       "      <td>N</td>\n",
       "      <td>0</td>\n",
       "      <td>0</td>\n",
       "      <td>-2.487502</td>\n",
       "      <td>0</td>\n",
       "      <td>80</td>\n",
       "      <td>2</td>\n",
       "      <td>3</td>\n",
       "      <td>120000</td>\n",
       "      <td>1</td>\n",
       "      <td>3</td>\n",
       "      <td>N</td>\n",
       "      <td>0</td>\n",
       "      <td>0</td>\n",
       "    </tr>\n",
       "  </tbody>\n",
       "</table>\n",
       "</div>"
      ],
      "text/plain": [
       "   client_id   app_date education sex  age car car_type  decline_app_cnt  \\\n",
       "0      74835  22MAR2014       GRD   M   29   Y        Y                0   \n",
       "1      17527  24JAN2014       SCH   F   39   N        N                5   \n",
       "2      75683  23MAR2014       UGR   M   50   Y        Y                0   \n",
       "3      26883  03FEB2014       SCH   M   56   N        N                0   \n",
       "4      28862  04FEB2014       GRD   F   38   N        N                0   \n",
       "\n",
       "   good_work  score_bki  bki_request_cnt  region_rating  home_address  \\\n",
       "0          0  -2.271884                3             50             1   \n",
       "1          0  -1.504999                2             50             1   \n",
       "2          0  -1.691339                1             50             1   \n",
       "3          0  -2.374182                1             40             1   \n",
       "4          0  -2.487502                0             80             2   \n",
       "\n",
       "   work_address  income  sna  first_time foreign_passport  sample  default  \n",
       "0             2   50000    1           4                N       0        0  \n",
       "1             2    5000    4           3                N       0        0  \n",
       "2             2   30000    1           3                Y       0        0  \n",
       "3             2   17000    1           3                N       0        0  \n",
       "4             3  120000    1           3                N       0        0  "
      ]
     },
     "execution_count": 538,
     "metadata": {},
     "output_type": "execute_result"
    }
   ],
   "source": [
    "# осматриваем данные\n",
    "data.head()"
   ]
  },
  {
   "cell_type": "code",
   "execution_count": 539,
   "metadata": {
    "execution": {
     "iopub.execute_input": "2021-08-01T13:52:09.165805Z",
     "iopub.status.busy": "2021-08-01T13:52:09.165282Z",
     "iopub.status.idle": "2021-08-01T13:52:09.247297Z",
     "shell.execute_reply": "2021-08-01T13:52:09.246338Z",
     "shell.execute_reply.started": "2021-08-01T13:52:09.165732Z"
    }
   },
   "outputs": [
    {
     "data": {
      "text/plain": [
       "client_id             0\n",
       "app_date              0\n",
       "education           478\n",
       "sex                   0\n",
       "age                   0\n",
       "car                   0\n",
       "car_type              0\n",
       "decline_app_cnt       0\n",
       "good_work             0\n",
       "score_bki             0\n",
       "bki_request_cnt       0\n",
       "region_rating         0\n",
       "home_address          0\n",
       "work_address          0\n",
       "income                0\n",
       "sna                   0\n",
       "first_time            0\n",
       "foreign_passport      0\n",
       "sample                0\n",
       "default               0\n",
       "dtype: int64"
      ]
     },
     "execution_count": 539,
     "metadata": {},
     "output_type": "execute_result"
    }
   ],
   "source": [
    "# проверим датасет на наличие пропусков\n",
    "data.isnull().sum()"
   ]
  },
  {
   "cell_type": "code",
   "execution_count": 540,
   "metadata": {
    "execution": {
     "iopub.execute_input": "2021-08-01T13:52:09.248841Z",
     "iopub.status.busy": "2021-08-01T13:52:09.248535Z",
     "iopub.status.idle": "2021-08-01T13:52:09.427363Z",
     "shell.execute_reply": "2021-08-01T13:52:09.426382Z",
     "shell.execute_reply.started": "2021-08-01T13:52:09.248812Z"
    }
   },
   "outputs": [
    {
     "data": {
      "text/plain": [
       "<AxesSubplot:>"
      ]
     },
     "execution_count": 540,
     "metadata": {},
     "output_type": "execute_result"
    },
    {
     "data": {
      "image/png": "[encoded data removed]",
      "text/plain": [
       "<Figure size 432x288 with 1 Axes>"
      ]
     },
     "metadata": {
      "needs_background": "light"
     },
     "output_type": "display_data"
    }
   ],
   "source": [
    "# осмотрим признак\n",
    "data['education'].value_counts().plot.barh()"
   ]
  },
  {
   "cell_type": "code",
   "execution_count": 541,
   "metadata": {
    "execution": {
     "iopub.execute_input": "2021-08-01T13:52:09.428921Z",
     "iopub.status.busy": "2021-08-01T13:52:09.428620Z",
     "iopub.status.idle": "2021-08-01T13:52:09.490246Z",
     "shell.execute_reply": "2021-08-01T13:52:09.489231Z",
     "shell.execute_reply.started": "2021-08-01T13:52:09.428891Z"
    }
   },
   "outputs": [],
   "source": [
    "# заменяем пропуски с помощью вероятностного присвоения\n",
    "mask = data[\"education\"].isna()\n",
    "# считаем статистику распределения значений\n",
    "p = data[\"education\"].value_counts() / len(data[\"education\"].dropna())\n",
    "# заполняем пропуски с вероятностью `p`\n",
    "data.loc[mask, \"education\"] = \\\n",
    "    np.random.choice(p.index.to_list(), \n",
    "                     size=mask.sum(), \n",
    "                     p=p.to_list())"
   ]
  },
  {
   "cell_type": "code",
   "execution_count": 542,
   "metadata": {
    "execution": {
     "iopub.execute_input": "2021-08-01T13:52:09.492155Z",
     "iopub.status.busy": "2021-08-01T13:52:09.491744Z",
     "iopub.status.idle": "2021-08-01T13:52:09.569640Z",
     "shell.execute_reply": "2021-08-01T13:52:09.568536Z",
     "shell.execute_reply.started": "2021-08-01T13:52:09.492113Z"
    }
   },
   "outputs": [
    {
     "data": {
      "text/plain": [
       "0"
      ]
     },
     "execution_count": 542,
     "metadata": {},
     "output_type": "execute_result"
    }
   ],
   "source": [
    "# проверим результат \n",
    "data.isnull().sum().sum()"
   ]
  },
  {
   "cell_type": "code",
   "execution_count": 543,
   "metadata": {
    "execution": {
     "iopub.execute_input": "2021-08-01T13:52:09.572271Z",
     "iopub.status.busy": "2021-08-01T13:52:09.571967Z",
     "iopub.status.idle": "2021-08-01T13:52:09.677997Z",
     "shell.execute_reply": "2021-08-01T13:52:09.677019Z",
     "shell.execute_reply.started": "2021-08-01T13:52:09.572241Z"
    }
   },
   "outputs": [],
   "source": [
    "# преобразуем признак 'app_date' в приемлимый формат и извлечём данные, с которыми можно работать:\n",
    "data['app_date'] = pd.to_datetime(data['app_date'])\n",
    "data['app_day'] = data.app_date.dt.day     # извлекли в \n",
    "data['app_month'] = data.app_date.dt.month\n",
    "data[\"app_weekday\"] = data[\"app_date\"].dt.weekday\n",
    "# удалим теперь уже ненужный столбец\n",
    "data.drop([\"app_date\"], axis=1, inplace=True)"
   ]
  },
  {
   "cell_type": "code",
   "execution_count": 544,
   "metadata": {
    "execution": {
     "iopub.execute_input": "2021-08-01T13:52:09.680154Z",
     "iopub.status.busy": "2021-08-01T13:52:09.679742Z",
     "iopub.status.idle": "2021-08-01T13:52:09.696141Z",
     "shell.execute_reply": "2021-08-01T13:52:09.694898Z",
     "shell.execute_reply.started": "2021-08-01T13:52:09.680110Z"
    }
   },
   "outputs": [],
   "source": [
    "# разделим признаки по категориям:\n",
    "\n",
    "# числовые признаки\n",
    "num_cols = data[[\"age\", \"decline_app_cnt\", \"score_bki\",\n",
    "            \"bki_request_cnt\", \"income\"]]\n",
    "\n",
    "# бинарные признаки\n",
    "bin_cols = data[[\"sex\", \"car\", \"car_type\", \"good_work\", \"foreign_passport\"]]\n",
    "\n",
    "# категориальные признаки\n",
    "cat_cols = data[[\"education\", \"region_rating\", \"home_address\", \"work_address\", \"sna\"\n",
    "                 ,\"app_day\", \"app_month\", \"app_weekday\", \"first_time\"]]"
   ]
  },
  {
   "cell_type": "code",
   "execution_count": 545,
   "metadata": {
    "execution": {
     "iopub.execute_input": "2021-08-01T13:52:09.698253Z",
     "iopub.status.busy": "2021-08-01T13:52:09.697800Z",
     "iopub.status.idle": "2021-08-01T13:52:10.997246Z",
     "shell.execute_reply": "2021-08-01T13:52:10.995461Z",
     "shell.execute_reply.started": "2021-08-01T13:52:09.698211Z"
    }
   },
   "outputs": [
    {
     "data": {
      "image/png": "[encoded data removed]",
      "text/plain": [
       "<Figure size 432x288 with 1 Axes>"
      ]
     },
     "metadata": {
      "needs_background": "light"
     },
     "output_type": "display_data"
    },
    {
     "data": {
      "image/png": "[encoded data removed]",
      "text/plain": [
       "<Figure size 432x288 with 1 Axes>"
      ]
     },
     "metadata": {
      "needs_background": "light"
     },
     "output_type": "display_data"
    },
    {
     "data": {
      "image/png": "[encoded data removed]",
      "text/plain": [
       "<Figure size 432x288 with 1 Axes>"
      ]
     },
     "metadata": {
      "needs_background": "light"
     },
     "output_type": "display_data"
    },
    {
     "data": {
      "image/png": "[encoded data removed]",
      "text/plain": [
       "<Figure size 432x288 with 1 Axes>"
      ]
     },
     "metadata": {
      "needs_background": "light"
     },
     "output_type": "display_data"
    },
    {
     "data": {
      "image/png": "[encoded data removed]",
      "text/plain": [
       "<Figure size 432x288 with 1 Axes>"
      ]
     },
     "metadata": {
      "needs_background": "light"
     },
     "output_type": "display_data"
    }
   ],
   "source": [
    "# осмотрим числовые признаки\n",
    "for col in num_cols:\n",
    "    plt.figure()\n",
    "    plt.title(f\"Распределение {col}\")\n",
    "    sns.distplot(data[col], kde=False)"
   ]
  },
  {
   "cell_type": "code",
   "execution_count": 546,
   "metadata": {
    "execution": {
     "iopub.execute_input": "2021-08-01T13:52:10.999105Z",
     "iopub.status.busy": "2021-08-01T13:52:10.998683Z",
     "iopub.status.idle": "2021-08-01T13:52:12.428270Z",
     "shell.execute_reply": "2021-08-01T13:52:12.427129Z",
     "shell.execute_reply.started": "2021-08-01T13:52:10.999061Z"
    }
   },
   "outputs": [
    {
     "data": {
      "image/png": "[encoded data removed]",
      "text/plain": [
       "<Figure size 432x288 with 1 Axes>"
      ]
     },
     "metadata": {
      "needs_background": "light"
     },
     "output_type": "display_data"
    },
    {
     "data": {
      "image/png": "[encoded data removed]",
      "text/plain": [
       "<Figure size 432x288 with 1 Axes>"
      ]
     },
     "metadata": {
      "needs_background": "light"
     },
     "output_type": "display_data"
    },
    {
     "data": {
      "image/png": "[encoded data removed]",
      "text/plain": [
       "<Figure size 432x288 with 1 Axes>"
      ]
     },
     "metadata": {
      "needs_background": "light"
     },
     "output_type": "display_data"
    },
    {
     "data": {
      "image/png": "[encoded data removed]",
      "text/plain": [
       "<Figure size 432x288 with 1 Axes>"
      ]
     },
     "metadata": {
      "needs_background": "light"
     },
     "output_type": "display_data"
    }
   ],
   "source": [
    "# для более нормального распределения, логарифмируем некоторые признаки\n",
    "num_cols[[\"age\", \"decline_app_cnt\", \"bki_request_cnt\", \"income\"]] = np.log(num_cols[[\"age\",\n",
    "                            \"decline_app_cnt\", \"bki_request_cnt\", \"income\"]] + 1)\n",
    "# и сразу их осмотрим\n",
    "for col in num_cols[[\"age\", \"decline_app_cnt\", \"bki_request_cnt\", \"income\"]]:\n",
    "    plt.figure()\n",
    "    plt.title(f\"Распределение {col}\")\n",
    "    sns.distplot(num_cols[col], kde=False)"
   ]
  },
  {
   "cell_type": "code",
   "execution_count": 547,
   "metadata": {
    "execution": {
     "iopub.execute_input": "2021-08-01T13:52:12.432219Z",
     "iopub.status.busy": "2021-08-01T13:52:12.431904Z",
     "iopub.status.idle": "2021-08-01T13:52:13.316689Z",
     "shell.execute_reply": "2021-08-01T13:52:13.315513Z",
     "shell.execute_reply.started": "2021-08-01T13:52:12.432188Z"
    }
   },
   "outputs": [
    {
     "data": {
      "image/png": "[encoded data removed]",
      "text/plain": [
       "<Figure size 432x288 with 1 Axes>"
      ]
     },
     "metadata": {
      "needs_background": "light"
     },
     "output_type": "display_data"
    },
    {
     "data": {
      "image/png": "[encoded data removed]",
      "text/plain": [
       "<Figure size 432x288 with 1 Axes>"
      ]
     },
     "metadata": {
      "needs_background": "light"
     },
     "output_type": "display_data"
    },
    {
     "data": {
      "image/png": "[encoded data removed]",
      "text/plain": [
       "<Figure size 432x288 with 1 Axes>"
      ]
     },
     "metadata": {
      "needs_background": "light"
     },
     "output_type": "display_data"
    },
    {
     "data": {
      "image/png": "[encoded data removed]",
      "text/plain": [
       "<Figure size 432x288 with 1 Axes>"
      ]
     },
     "metadata": {
      "needs_background": "light"
     },
     "output_type": "display_data"
    },
    {
     "data": {
      "image/png": "[encoded data removed]",
      "text/plain": [
       "<Figure size 432x288 with 1 Axes>"
      ]
     },
     "metadata": {
      "needs_background": "light"
     },
     "output_type": "display_data"
    }
   ],
   "source": [
    "# взглянем на боксплоты числовых переменных, относительно целевой\n",
    "for i in num_cols:\n",
    "    plt.figure()\n",
    "    sns.boxplot(x=data['default'], y = num_cols[i])\n",
    "    plt.title(i)\n",
    "    plt.show()"
   ]
  },
  {
   "cell_type": "markdown",
   "metadata": {
    "execution": {
     "iopub.execute_input": "2021-06-23T15:22:07.013991Z",
     "iopub.status.busy": "2021-06-23T15:22:07.013722Z",
     "iopub.status.idle": "2021-06-23T15:22:07.017879Z",
     "shell.execute_reply": "2021-06-23T15:22:07.016915Z",
     "shell.execute_reply.started": "2021-06-23T15:22:07.013964Z"
    }
   },
   "source": [
    "1. возраст дефолтных клиентов меньше\n",
    "2. дефолтные клиенты часто уже имели отказные заявки \n",
    "3. скоринговый балл у дефолтных выше\n",
    "4. у дефолтных клиентов больше запросов на кредит\n",
    "5. доход у дефолтных, в среднем, ниже\n"
   ]
  },
  {
   "cell_type": "code",
   "execution_count": 548,
   "metadata": {
    "execution": {
     "iopub.execute_input": "2021-08-01T13:52:13.320403Z",
     "iopub.status.busy": "2021-08-01T13:52:13.320021Z",
     "iopub.status.idle": "2021-08-01T13:52:13.326945Z",
     "shell.execute_reply": "2021-08-01T13:52:13.325575Z",
     "shell.execute_reply.started": "2021-08-01T13:52:13.320369Z"
    }
   },
   "outputs": [],
   "source": [
    "def outliers(row):\n",
    "    \"\"\"функция для замены выбросов на среднее\"\"\"\n",
    "    q_1 = np.quantile(row, 0.25) \n",
    "    q_3 = np.quantile(row, 0.75) \n",
    "    IQR = q_3 - q_1\n",
    "    return np.where((row < (q_1 - IQR * 1.5)) | (row > (q_3 + IQR * 1.5)), row.mean(), row)"
   ]
  },
  {
   "cell_type": "code",
   "execution_count": 549,
   "metadata": {
    "execution": {
     "iopub.execute_input": "2021-08-01T13:52:13.329069Z",
     "iopub.status.busy": "2021-08-01T13:52:13.328616Z",
     "iopub.status.idle": "2021-08-01T13:52:13.346171Z",
     "shell.execute_reply": "2021-08-01T13:52:13.345368Z",
     "shell.execute_reply.started": "2021-08-01T13:52:13.329019Z"
    }
   },
   "outputs": [],
   "source": [
    "# избавимся от выбросов \n",
    "for col in ['income']:\n",
    "    num_cols[col] =  outliers(num_cols[col])"
   ]
  },
  {
   "cell_type": "code",
   "execution_count": 550,
   "metadata": {
    "execution": {
     "iopub.execute_input": "2021-08-01T13:52:13.348449Z",
     "iopub.status.busy": "2021-08-01T13:52:13.347987Z",
     "iopub.status.idle": "2021-08-01T13:52:13.355637Z",
     "shell.execute_reply": "2021-08-01T13:52:13.354630Z",
     "shell.execute_reply.started": "2021-08-01T13:52:13.348400Z"
    }
   },
   "outputs": [],
   "source": [
    "# создадим признак \"количество согласованных заявок\"\n",
    "num_cols['acepted_request'] = num_cols['bki_request_cnt'] - num_cols['decline_app_cnt']"
   ]
  },
  {
   "cell_type": "code",
   "execution_count": 551,
   "metadata": {
    "execution": {
     "iopub.execute_input": "2021-08-01T13:52:13.357113Z",
     "iopub.status.busy": "2021-08-01T13:52:13.356704Z",
     "iopub.status.idle": "2021-08-01T13:52:13.827049Z",
     "shell.execute_reply": "2021-08-01T13:52:13.826109Z",
     "shell.execute_reply.started": "2021-08-01T13:52:13.357080Z"
    }
   },
   "outputs": [
    {
     "data": {
      "text/plain": [
       "<AxesSubplot:>"
      ]
     },
     "execution_count": 551,
     "metadata": {},
     "output_type": "execute_result"
    },
    {
     "data": {
      "image/png": "[encoded data removed]",
      "text/plain": [
       "<Figure size 864x432 with 2 Axes>"
      ]
     },
     "metadata": {
      "needs_background": "light"
     },
     "output_type": "display_data"
    }
   ],
   "source": [
    "# посмотрим на корреляцию признаков между собой\n",
    "plt.figure(figsize=(12, 6))\n",
    "sns.heatmap(num_cols.corr().abs(), vmin=0, vmax=1,\n",
    "            annot=True, fmt=\".3f\")"
   ]
  },
  {
   "cell_type": "markdown",
   "metadata": {},
   "source": [
    "На графике можно увидеть небольшую корреляцию между app_month и app_day, decline_app_cnt и score_bki\n"
   ]
  },
  {
   "cell_type": "code",
   "execution_count": 552,
   "metadata": {
    "execution": {
     "iopub.execute_input": "2021-08-01T13:52:13.828594Z",
     "iopub.status.busy": "2021-08-01T13:52:13.828288Z",
     "iopub.status.idle": "2021-08-01T13:52:14.005545Z",
     "shell.execute_reply": "2021-08-01T13:52:14.004420Z",
     "shell.execute_reply.started": "2021-08-01T13:52:13.828565Z"
    }
   },
   "outputs": [
    {
     "data": {
      "text/plain": [
       "<AxesSubplot:>"
      ]
     },
     "execution_count": 552,
     "metadata": {},
     "output_type": "execute_result"
    },
    {
     "data": {
      "image/png": "[encoded data removed]",
      "text/plain": [
       "<Figure size 432x288 with 1 Axes>"
      ]
     },
     "metadata": {
      "needs_background": "light"
     },
     "output_type": "display_data"
    }
   ],
   "source": [
    "#определяем значимость наших переменных\n",
    "imp_num = pd.Series(f_classif(num_cols, data['default'])[0], index=[num_cols.columns])\n",
    "imp_num.sort_values(inplace = True)\n",
    "imp_num.plot(kind = 'barh')"
   ]
  },
  {
   "cell_type": "code",
   "execution_count": 553,
   "metadata": {
    "execution": {
     "iopub.execute_input": "2021-08-01T13:52:14.008104Z",
     "iopub.status.busy": "2021-08-01T13:52:14.007817Z",
     "iopub.status.idle": "2021-08-01T13:52:14.176764Z",
     "shell.execute_reply": "2021-08-01T13:52:14.175940Z",
     "shell.execute_reply.started": "2021-08-01T13:52:14.008076Z"
    }
   },
   "outputs": [],
   "source": [
    "# заменяем бинарные категориальные признаки\n",
    "\n",
    "label_encoder = LabelEncoder()\n",
    "for column in bin_cols:\n",
    "    bin_cols[column] = label_encoder.fit_transform(data[column])"
   ]
  },
  {
   "cell_type": "code",
   "execution_count": 554,
   "metadata": {
    "execution": {
     "iopub.execute_input": "2021-08-01T13:52:14.178385Z",
     "iopub.status.busy": "2021-08-01T13:52:14.177978Z",
     "iopub.status.idle": "2021-08-01T13:52:14.429832Z",
     "shell.execute_reply": "2021-08-01T13:52:14.429084Z",
     "shell.execute_reply.started": "2021-08-01T13:52:14.178355Z"
    }
   },
   "outputs": [
    {
     "data": {
      "text/plain": [
       "<AxesSubplot:>"
      ]
     },
     "execution_count": 554,
     "metadata": {},
     "output_type": "execute_result"
    },
    {
     "data": {
      "image/png": "[encoded data removed]",
      "text/plain": [
       "<Figure size 432x288 with 1 Axes>"
      ]
     },
     "metadata": {
      "needs_background": "light"
     },
     "output_type": "display_data"
    }
   ],
   "source": [
    "# произведём оценку значимости категориальных бинарных переменных\n",
    "imp_cat = pd.Series(mutual_info_classif(bin_cols, data['default'],\n",
    "                                     discrete_features =True), index = bin_cols.columns)\n",
    "imp_cat.sort_values(inplace = True)\n",
    "imp_cat.plot(kind = 'barh')"
   ]
  },
  {
   "cell_type": "code",
   "execution_count": 555,
   "metadata": {
    "execution": {
     "iopub.execute_input": "2021-08-01T13:52:14.431195Z",
     "iopub.status.busy": "2021-08-01T13:52:14.430820Z",
     "iopub.status.idle": "2021-08-01T13:52:14.481263Z",
     "shell.execute_reply": "2021-08-01T13:52:14.480445Z",
     "shell.execute_reply.started": "2021-08-01T13:52:14.431167Z"
    }
   },
   "outputs": [
    {
     "name": "stdout",
     "output_type": "stream",
     "text": [
      "{0: 'ACD', 1: 'GRD', 2: 'PGR', 3: 'SCH', 4: 'UGR'}\n"
     ]
    }
   ],
   "source": [
    "#преобразуем education\n",
    "label_encoder = LabelEncoder()\n",
    "\n",
    "mapped_education = pd.Series(label_encoder.fit_transform(data['education']))\n",
    "print(dict(enumerate(label_encoder.classes_))) # чтобы не забыть что куда преобразилось\n",
    "cat_cols['education'] = mapped_education"
   ]
  },
  {
   "cell_type": "code",
   "execution_count": 556,
   "metadata": {
    "execution": {
     "iopub.execute_input": "2021-08-01T13:52:14.482835Z",
     "iopub.status.busy": "2021-08-01T13:52:14.482366Z",
     "iopub.status.idle": "2021-08-01T13:52:14.679917Z",
     "shell.execute_reply": "2021-08-01T13:52:14.678982Z",
     "shell.execute_reply.started": "2021-08-01T13:52:14.482803Z"
    }
   },
   "outputs": [],
   "source": [
    "# воспользуемся dummy-кодированием для категориальных переменных\n",
    "X_cat = OneHotEncoder(sparse=False).fit_transform(cat_cols.values)\n",
    "\n",
    "X_cat = pd.DataFrame(X_cat)"
   ]
  },
  {
   "cell_type": "code",
   "execution_count": 557,
   "metadata": {
    "execution": {
     "iopub.execute_input": "2021-08-01T13:52:17.159095Z",
     "iopub.status.busy": "2021-08-01T13:52:17.158717Z",
     "iopub.status.idle": "2021-08-01T13:52:17.218715Z",
     "shell.execute_reply": "2021-08-01T13:52:17.217769Z",
     "shell.execute_reply.started": "2021-08-01T13:52:17.159057Z"
    }
   },
   "outputs": [],
   "source": [
    "# добавим новые признаки, через комбинацию чиловых признаков\n",
    "poly = PolynomialFeatures(2, include_bias=False)\n",
    "poly_data = poly.fit_transform(num_cols) \n",
    "poly_cols = poly.get_feature_names(input_features=None)\n",
    "\n",
    "# создадим из них новый df\n",
    "poly_df = pd.DataFrame(poly_data, columns=poly_cols)\n",
    "\n",
    "# сделаем итоговый df для числовых\n",
    "total_num = num_cols.join(poly_df,  how='left')"
   ]
  },
  {
   "cell_type": "code",
   "execution_count": 559,
   "metadata": {
    "execution": {
     "iopub.execute_input": "2021-08-01T13:52:31.907569Z",
     "iopub.status.busy": "2021-08-01T13:52:31.907176Z",
     "iopub.status.idle": "2021-08-01T13:52:32.006004Z",
     "shell.execute_reply": "2021-08-01T13:52:32.004932Z",
     "shell.execute_reply.started": "2021-08-01T13:52:31.907536Z"
    }
   },
   "outputs": [
    {
     "data": {
      "text/html": [
       "<div>\n",
       "<style scoped>\n",
       "    .dataframe tbody tr th:only-of-type {\n",
       "        vertical-align: middle;\n",
       "    }\n",
       "\n",
       "    .dataframe tbody tr th {\n",
       "        vertical-align: top;\n",
       "    }\n",
       "\n",
       "    .dataframe thead th {\n",
       "        text-align: right;\n",
       "    }\n",
       "</style>\n",
       "<table border=\"1\" class=\"dataframe\">\n",
       "  <thead>\n",
       "    <tr style=\"text-align: right;\">\n",
       "      <th></th>\n",
       "      <th>age</th>\n",
       "      <th>decline_app_cnt</th>\n",
       "      <th>score_bki</th>\n",
       "      <th>bki_request_cnt</th>\n",
       "      <th>income</th>\n",
       "      <th>acepted_request</th>\n",
       "      <th>x0</th>\n",
       "      <th>x1</th>\n",
       "      <th>x2</th>\n",
       "      <th>x3</th>\n",
       "      <th>...</th>\n",
       "      <th>x2^2</th>\n",
       "      <th>x2 x3</th>\n",
       "      <th>x2 x4</th>\n",
       "      <th>x2 x5</th>\n",
       "      <th>x3^2</th>\n",
       "      <th>x3 x4</th>\n",
       "      <th>x3 x5</th>\n",
       "      <th>x4^2</th>\n",
       "      <th>x4 x5</th>\n",
       "      <th>x5^2</th>\n",
       "    </tr>\n",
       "  </thead>\n",
       "  <tbody>\n",
       "    <tr>\n",
       "      <th>0</th>\n",
       "      <td>-0.888776</td>\n",
       "      <td>-0.418815</td>\n",
       "      <td>-0.735587</td>\n",
       "      <td>0.770563</td>\n",
       "      <td>0.798711</td>\n",
       "      <td>0.928364</td>\n",
       "      <td>-0.888776</td>\n",
       "      <td>-0.418815</td>\n",
       "      <td>-0.735587</td>\n",
       "      <td>0.770563</td>\n",
       "      <td>...</td>\n",
       "      <td>0.681949</td>\n",
       "      <td>-1.185623</td>\n",
       "      <td>-0.925706</td>\n",
       "      <td>-1.282991</td>\n",
       "      <td>0.536491</td>\n",
       "      <td>0.853268</td>\n",
       "      <td>0.718857</td>\n",
       "      <td>0.785035</td>\n",
       "      <td>1.005733</td>\n",
       "      <td>0.754599</td>\n",
       "    </tr>\n",
       "    <tr>\n",
       "      <th>1</th>\n",
       "      <td>0.120447</td>\n",
       "      <td>4.539989</td>\n",
       "      <td>0.800039</td>\n",
       "      <td>0.333797</td>\n",
       "      <td>0.031101</td>\n",
       "      <td>-2.001610</td>\n",
       "      <td>0.120447</td>\n",
       "      <td>4.539989</td>\n",
       "      <td>0.800039</td>\n",
       "      <td>0.333797</td>\n",
       "      <td>...</td>\n",
       "      <td>-0.855419</td>\n",
       "      <td>-0.020538</td>\n",
       "      <td>0.771279</td>\n",
       "      <td>1.750504</td>\n",
       "      <td>0.000679</td>\n",
       "      <td>0.327439</td>\n",
       "      <td>-1.475335</td>\n",
       "      <td>0.001227</td>\n",
       "      <td>-1.984382</td>\n",
       "      <td>-0.468886</td>\n",
       "    </tr>\n",
       "    <tr>\n",
       "      <th>2</th>\n",
       "      <td>0.972731</td>\n",
       "      <td>-0.418815</td>\n",
       "      <td>0.426908</td>\n",
       "      <td>-0.281790</td>\n",
       "      <td>-0.028503</td>\n",
       "      <td>-0.048294</td>\n",
       "      <td>0.972731</td>\n",
       "      <td>-0.418815</td>\n",
       "      <td>0.426908</td>\n",
       "      <td>-0.281790</td>\n",
       "      <td>...</td>\n",
       "      <td>-0.539283</td>\n",
       "      <td>0.354092</td>\n",
       "      <td>0.419942</td>\n",
       "      <td>0.147520</td>\n",
       "      <td>-0.543853</td>\n",
       "      <td>-0.283334</td>\n",
       "      <td>-0.459768</td>\n",
       "      <td>-0.058166</td>\n",
       "      <td>-0.053495</td>\n",
       "      <td>-0.468886</td>\n",
       "    </tr>\n",
       "    <tr>\n",
       "      <th>3</th>\n",
       "      <td>1.362924</td>\n",
       "      <td>-0.418815</td>\n",
       "      <td>-0.940432</td>\n",
       "      <td>-0.281790</td>\n",
       "      <td>-0.948259</td>\n",
       "      <td>-0.048294</td>\n",
       "      <td>1.362924</td>\n",
       "      <td>-0.418815</td>\n",
       "      <td>-0.940432</td>\n",
       "      <td>-0.281790</td>\n",
       "      <td>...</td>\n",
       "      <td>0.934221</td>\n",
       "      <td>-0.014501</td>\n",
       "      <td>-0.651815</td>\n",
       "      <td>-0.194931</td>\n",
       "      <td>-0.543853</td>\n",
       "      <td>-0.340307</td>\n",
       "      <td>-0.459768</td>\n",
       "      <td>-0.947831</td>\n",
       "      <td>-0.106590</td>\n",
       "      <td>-0.468886</td>\n",
       "    </tr>\n",
       "    <tr>\n",
       "      <th>4</th>\n",
       "      <td>0.031629</td>\n",
       "      <td>-0.418815</td>\n",
       "      <td>-1.167347</td>\n",
       "      <td>-1.334144</td>\n",
       "      <td>2.216432</td>\n",
       "      <td>-1.024952</td>\n",
       "      <td>0.031629</td>\n",
       "      <td>-0.418815</td>\n",
       "      <td>-1.167347</td>\n",
       "      <td>-1.334144</td>\n",
       "      <td>...</td>\n",
       "      <td>1.226642</td>\n",
       "      <td>1.267062</td>\n",
       "      <td>-1.775176</td>\n",
       "      <td>0.995737</td>\n",
       "      <td>-0.903968</td>\n",
       "      <td>-1.317454</td>\n",
       "      <td>-0.852643</td>\n",
       "      <td>2.324972</td>\n",
       "      <td>-1.017218</td>\n",
       "      <td>-0.876714</td>\n",
       "    </tr>\n",
       "  </tbody>\n",
       "</table>\n",
       "<p>5 rows × 33 columns</p>\n",
       "</div>"
      ],
      "text/plain": [
       "        age  decline_app_cnt  score_bki  bki_request_cnt    income  \\\n",
       "0 -0.888776        -0.418815  -0.735587         0.770563  0.798711   \n",
       "1  0.120447         4.539989   0.800039         0.333797  0.031101   \n",
       "2  0.972731        -0.418815   0.426908        -0.281790 -0.028503   \n",
       "3  1.362924        -0.418815  -0.940432        -0.281790 -0.948259   \n",
       "4  0.031629        -0.418815  -1.167347        -1.334144  2.216432   \n",
       "\n",
       "   acepted_request        x0        x1        x2        x3  ...      x2^2  \\\n",
       "0         0.928364 -0.888776 -0.418815 -0.735587  0.770563  ...  0.681949   \n",
       "1        -2.001610  0.120447  4.539989  0.800039  0.333797  ... -0.855419   \n",
       "2        -0.048294  0.972731 -0.418815  0.426908 -0.281790  ... -0.539283   \n",
       "3        -0.048294  1.362924 -0.418815 -0.940432 -0.281790  ...  0.934221   \n",
       "4        -1.024952  0.031629 -0.418815 -1.167347 -1.334144  ...  1.226642   \n",
       "\n",
       "      x2 x3     x2 x4     x2 x5      x3^2     x3 x4     x3 x5      x4^2  \\\n",
       "0 -1.185623 -0.925706 -1.282991  0.536491  0.853268  0.718857  0.785035   \n",
       "1 -0.020538  0.771279  1.750504  0.000679  0.327439 -1.475335  0.001227   \n",
       "2  0.354092  0.419942  0.147520 -0.543853 -0.283334 -0.459768 -0.058166   \n",
       "3 -0.014501 -0.651815 -0.194931 -0.543853 -0.340307 -0.459768 -0.947831   \n",
       "4  1.267062 -1.775176  0.995737 -0.903968 -1.317454 -0.852643  2.324972   \n",
       "\n",
       "      x4 x5      x5^2  \n",
       "0  1.005733  0.754599  \n",
       "1 -1.984382 -0.468886  \n",
       "2 -0.053495 -0.468886  \n",
       "3 -0.106590 -0.468886  \n",
       "4 -1.017218 -0.876714  \n",
       "\n",
       "[5 rows x 33 columns]"
      ]
     },
     "execution_count": 559,
     "metadata": {},
     "output_type": "execute_result"
    }
   ],
   "source": [
    "#стандартизация числовых признаков\n",
    "total_num = pd.DataFrame(StandardScaler().fit_transform(total_num), columns = total_num.columns)\n",
    "\n",
    "total_num.head()"
   ]
  },
  {
   "cell_type": "code",
   "execution_count": 560,
   "metadata": {
    "execution": {
     "iopub.execute_input": "2021-08-01T13:52:45.152470Z",
     "iopub.status.busy": "2021-08-01T13:52:45.152062Z",
     "iopub.status.idle": "2021-08-01T13:52:45.328051Z",
     "shell.execute_reply": "2021-08-01T13:52:45.327168Z",
     "shell.execute_reply.started": "2021-08-01T13:52:45.152432Z"
    }
   },
   "outputs": [],
   "source": [
    "# объединим обработку в один датасет\n",
    "data_for_fit = total_num.join(X_cat)\n",
    "data_for_fit = data_for_fit.join(bin_cols)\n",
    "data_for_fit = data_for_fit.join(data[['sample', 'default']])"
   ]
  },
  {
   "cell_type": "code",
   "execution_count": 561,
   "metadata": {
    "execution": {
     "iopub.execute_input": "2021-08-01T13:52:57.493696Z",
     "iopub.status.busy": "2021-08-01T13:52:57.493171Z",
     "iopub.status.idle": "2021-08-01T13:52:57.846738Z",
     "shell.execute_reply": "2021-08-01T13:52:57.845917Z",
     "shell.execute_reply.started": "2021-08-01T13:52:57.493662Z"
    }
   },
   "outputs": [],
   "source": [
    "# вновь разделимь на тренеровочный и тестовый\n",
    "train = data_for_fit.query('sample == 1').drop(['sample'], axis=1)\n",
    "test = data_for_fit.query('sample == 0').drop(['sample'], axis=1)"
   ]
  },
  {
   "cell_type": "code",
   "execution_count": 504,
   "metadata": {
    "execution": {
     "iopub.execute_input": "2021-08-01T13:12:36.328107Z",
     "iopub.status.busy": "2021-08-01T13:12:36.327686Z",
     "iopub.status.idle": "2021-08-01T13:12:36.394527Z",
     "shell.execute_reply": "2021-08-01T13:12:36.393606Z",
     "shell.execute_reply.started": "2021-08-01T13:12:36.328066Z"
    }
   },
   "outputs": [],
   "source": [
    "# подготовим данные к сплину\n",
    "Y = train['default'].values\n",
    "train.drop([\"default\"], axis=1, inplace=True)\n",
    "test.drop([\"default\"], axis=1, inplace=True)\n",
    "X = train.values\n",
    "test = test.values"
   ]
  },
  {
   "cell_type": "code",
   "execution_count": 505,
   "metadata": {
    "execution": {
     "iopub.execute_input": "2021-08-01T13:12:36.396599Z",
     "iopub.status.busy": "2021-08-01T13:12:36.396150Z",
     "iopub.status.idle": "2021-08-01T13:12:36.496746Z",
     "shell.execute_reply": "2021-08-01T13:12:36.495644Z",
     "shell.execute_reply.started": "2021-08-01T13:12:36.396554Z"
    }
   },
   "outputs": [],
   "source": [
    "# сплитим данные\n",
    "X_train, X_test, y_train, y_test = train_test_split(X, Y, test_size=0.20, random_state=1, shuffle=True)"
   ]
  },
  {
   "cell_type": "code",
   "execution_count": 506,
   "metadata": {
    "execution": {
     "iopub.execute_input": "2021-08-01T13:12:36.498490Z",
     "iopub.status.busy": "2021-08-01T13:12:36.498159Z",
     "iopub.status.idle": "2021-08-01T13:15:17.736791Z",
     "shell.execute_reply": "2021-08-01T13:15:17.735645Z",
     "shell.execute_reply.started": "2021-08-01T13:12:36.498457Z"
    }
   },
   "outputs": [
    {
     "name": "stdout",
     "output_type": "stream",
     "text": [
      "Лучшее Penalty: l2\n",
      "Лучшее C: 0.001\n"
     ]
    }
   ],
   "source": [
    "\"\"\"# Добавим типы регуляризации\n",
    "penalty = ['l1', 'l2']\n",
    "\n",
    "# Зададим ограничения для параметра регуляризации\n",
    "C = (0.001, 0.1, 1, 10, 100, 1000, 10000)\n",
    "\n",
    "# Создадим гиперпараметры\n",
    "hyperparameters = dict(C=C, penalty=penalty)\n",
    "\n",
    "model = LogisticRegression(solver='lbfgs', max_iter=1000)\n",
    "model.fit(X_train, y_train)\n",
    "\n",
    "# Создаем сетку поиска с использованием 5-кратной перекрестной проверки\n",
    "clf = GridSearchCV(model, hyperparameters, cv=5, verbose=0)\n",
    "\n",
    "best_model = clf.fit(X_train, y_train)\n",
    "\n",
    "# Отобразим лучшие гиперпараметры\n",
    "print('Лучшее Penalty:', best_model.best_estimator_.get_params()['penalty'])\n",
    "print('Лучшее C:', best_model.best_estimator_.get_params()['C'])\"\"\""
   ]
  },
  {
   "cell_type": "markdown",
   "metadata": {},
   "source": [
    "Лучшая регуляризация - l2, с силой регуляризации C = 0.1\n",
    "станартные параметны логистической регрессии останутся без изменений"
   ]
  },
  {
   "cell_type": "code",
   "execution_count": 507,
   "metadata": {
    "execution": {
     "iopub.execute_input": "2021-08-01T13:15:17.739622Z",
     "iopub.status.busy": "2021-08-01T13:15:17.738803Z",
     "iopub.status.idle": "2021-08-01T13:15:22.794596Z",
     "shell.execute_reply": "2021-08-01T13:15:22.793640Z",
     "shell.execute_reply.started": "2021-08-01T13:15:17.739556Z"
    }
   },
   "outputs": [
    {
     "data": {
      "image/png": "[encoded data removed]",
      "text/plain": [
       "<Figure size 432x288 with 1 Axes>"
      ]
     },
     "metadata": {
      "needs_background": "light"
     },
     "output_type": "display_data"
    }
   ],
   "source": [
    "# обозначаем модель\n",
    "model = LogisticRegression(penalty='l2', C=0.1, max_iter=1000)\n",
    "\n",
    "# обучаем модель\n",
    "model.fit(X_train, y_train)\n",
    "\n",
    "# делаем предсказание\n",
    "probs = model.predict_proba(X_test)\n",
    "probs = probs[:,1]\n",
    "\n",
    "#рисуем ROC кривую\n",
    "fpr, tpr, threshold = roc_curve(y_test, probs)\n",
    "roc_auc = roc_auc_score(y_test, probs)\n",
    "\n",
    "plt.figure()\n",
    "plt.plot([0, 1], label='Baseline', linestyle='--')\n",
    "plt.plot(fpr, tpr, label = 'Regression')\n",
    "plt.title('Logistic Regression ROC AUC = %0.3f' % roc_auc)\n",
    "plt.ylabel('True Positive Rate')\n",
    "plt.xlabel('False Positive Rate')\n",
    "plt.legend(loc = 'lower right')\n",
    "plt.show()"
   ]
  },
  {
   "cell_type": "code",
   "execution_count": 508,
   "metadata": {
    "execution": {
     "iopub.execute_input": "2021-08-01T13:15:22.796167Z",
     "iopub.status.busy": "2021-08-01T13:15:22.795888Z",
     "iopub.status.idle": "2021-08-01T13:15:23.159521Z",
     "shell.execute_reply": "2021-08-01T13:15:23.158168Z",
     "shell.execute_reply.started": "2021-08-01T13:15:22.796139Z"
    }
   },
   "outputs": [
    {
     "data": {
      "image/png": "[encoded data removed]",
      "text/plain": [
       "<Figure size 540x540 with 1 Axes>"
      ]
     },
     "metadata": {
      "needs_background": "light"
     },
     "output_type": "display_data"
    }
   ],
   "source": [
    "# просмотрим качество присвоения к нужному классу\n",
    "y_pred = model.predict(X_test)\n",
    "conf_matrix = confusion_matrix(y_test, y_pred)\n",
    "\n",
    "fig, ax = plt.subplots(figsize=(7.5, 7.5))\n",
    "ax.matshow(conf_matrix, cmap=plt.cm.Blues, alpha=0.3)\n",
    "for i in range(conf_matrix.shape[0]):\n",
    "    for j in range(conf_matrix.shape[1]):\n",
    "        ax.text(x=j, y=i,s=conf_matrix[i, j], va='center', ha='center', size='xx-large')\n",
    " \n",
    "plt.xlabel('Прогноз', fontsize=18)\n",
    "plt.ylabel('Настоящие значения', fontsize=18)\n",
    "plt.title('Confusion Matrix', fontsize=18)\n",
    "plt.show()"
   ]
  },
  {
   "cell_type": "markdown",
   "metadata": {},
   "source": [
    "При визуальном осмотре видно, что наша модель работает недостаточно качественно.\n",
    "При слабой ошибке второго рода, сильная ошибка первого рода.\n",
    "В данном случае, это будет значить, что мы не выдадим большое число кредитов клиентам, которые будут в состоянии его вернуть"
   ]
  },
  {
   "cell_type": "markdown",
   "metadata": {},
   "source": []
  },
  {
   "cell_type": "code",
   "execution_count": 509,
   "metadata": {
    "execution": {
     "iopub.execute_input": "2021-08-01T13:15:23.162599Z",
     "iopub.status.busy": "2021-08-01T13:15:23.161507Z",
     "iopub.status.idle": "2021-08-01T13:15:23.187247Z",
     "shell.execute_reply": "2021-08-01T13:15:23.185862Z",
     "shell.execute_reply.started": "2021-08-01T13:15:23.162537Z"
    }
   },
   "outputs": [
    {
     "data": {
      "text/html": [
       "<div>\n",
       "<style scoped>\n",
       "    .dataframe tbody tr th:only-of-type {\n",
       "        vertical-align: middle;\n",
       "    }\n",
       "\n",
       "    .dataframe tbody tr th {\n",
       "        vertical-align: top;\n",
       "    }\n",
       "\n",
       "    .dataframe thead th {\n",
       "        text-align: right;\n",
       "    }\n",
       "</style>\n",
       "<table border=\"1\" class=\"dataframe\">\n",
       "  <thead>\n",
       "    <tr style=\"text-align: right;\">\n",
       "      <th></th>\n",
       "      <th>0</th>\n",
       "    </tr>\n",
       "  </thead>\n",
       "  <tbody>\n",
       "    <tr>\n",
       "      <th>age</th>\n",
       "      <td>1.216413</td>\n",
       "    </tr>\n",
       "    <tr>\n",
       "      <th>decline_app_cnt</th>\n",
       "      <td>1.167609</td>\n",
       "    </tr>\n",
       "    <tr>\n",
       "      <th>score_bki</th>\n",
       "      <td>1.259007</td>\n",
       "    </tr>\n",
       "    <tr>\n",
       "      <th>bki_request_cnt</th>\n",
       "      <td>0.972857</td>\n",
       "    </tr>\n",
       "    <tr>\n",
       "      <th>income</th>\n",
       "      <td>0.990089</td>\n",
       "    </tr>\n",
       "    <tr>\n",
       "      <th>...</th>\n",
       "      <td>...</td>\n",
       "    </tr>\n",
       "    <tr>\n",
       "      <th>sex</th>\n",
       "      <td>1.294385</td>\n",
       "    </tr>\n",
       "    <tr>\n",
       "      <th>car</th>\n",
       "      <td>0.987359</td>\n",
       "    </tr>\n",
       "    <tr>\n",
       "      <th>car_type</th>\n",
       "      <td>0.799571</td>\n",
       "    </tr>\n",
       "    <tr>\n",
       "      <th>good_work</th>\n",
       "      <td>0.804363</td>\n",
       "    </tr>\n",
       "    <tr>\n",
       "      <th>foreign_passport</th>\n",
       "      <td>0.818487</td>\n",
       "    </tr>\n",
       "  </tbody>\n",
       "</table>\n",
       "<p>106 rows × 1 columns</p>\n",
       "</div>"
      ],
      "text/plain": [
       "                         0\n",
       "age               1.216413\n",
       "decline_app_cnt   1.167609\n",
       "score_bki         1.259007\n",
       "bki_request_cnt   0.972857\n",
       "income            0.990089\n",
       "...                    ...\n",
       "sex               1.294385\n",
       "car               0.987359\n",
       "car_type          0.799571\n",
       "good_work         0.804363\n",
       "foreign_passport  0.818487\n",
       "\n",
       "[106 rows x 1 columns]"
      ]
     },
     "execution_count": 509,
     "metadata": {},
     "output_type": "execute_result"
    }
   ],
   "source": [
    "# коэффициенты нашей модели\n",
    "coef = np.exp(model.coef_[0]) \n",
    "\n",
    "# представим их в виде датафрейма\n",
    "pd.DataFrame(coef, train.columns)"
   ]
  },
  {
   "cell_type": "code",
   "execution_count": null,
   "metadata": {},
   "outputs": [],
   "source": []
  }
 ],
 "metadata": {
  "kernelspec": {
   "display_name": "Python 3",
   "language": "python",
   "name": "python3"
  },
  "language_info": {
   "codemirror_mode": {
    "name": "ipython",
    "version": 3
   },
   "file_extension": ".py",
   "mimetype": "text/x-python",
   "name": "python",
   "nbconvert_exporter": "python",
   "pygments_lexer": "ipython3",
   "version": "3.8.3"
  }
 },
 "nbformat": 4,
 "nbformat_minor": 4
}
