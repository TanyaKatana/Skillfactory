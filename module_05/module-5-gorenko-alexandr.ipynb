{
 "cells": [
  {
   "cell_type": "code",
   "execution_count": 53,
   "metadata": {
    "_cell_guid": "b1076dfc-b9ad-4769-8c92-a6c4dae69d19",
    "_uuid": "8f2839f25d086af736a60e9eeb907d3b93b6e0e5",
    "execution": {
     "iopub.execute_input": "2021-06-24T15:38:27.411391Z",
     "iopub.status.busy": "2021-06-24T15:38:27.411005Z",
     "iopub.status.idle": "2021-06-24T15:38:27.424399Z",
     "shell.execute_reply": "2021-06-24T15:38:27.422971Z",
     "shell.execute_reply.started": "2021-06-24T15:38:27.411357Z"
    }
   },
   "outputs": [
    {
     "name": "stdout",
     "output_type": "stream",
     "text": [
      "/kaggle/input/sf-dst-scoring/sample_submission.csv\n",
      "/kaggle/input/sf-dst-scoring/train.csv\n",
      "/kaggle/input/sf-dst-scoring/test.csv\n"
     ]
    }
   ],
   "source": [
    "#импортируем библиотеки\n",
    "\n",
    "import numpy as np # linear algebra\n",
    "import pandas as pd# data processing, CSV file I/O (e.g. pd.read_csv)\n",
    "\n",
    "# Input data files are available in the read-only \"../input/\" directory\n",
    "# For example, running this (by clicking run or pressing Shift+Enter) will list all files under the input directory\n",
    "\n",
    "import os\n",
    "for dirname, _, filenames in os.walk('/kaggle/input'):\n",
    "    for filename in filenames:\n",
    "        print(os.path.join(dirname, filename))\n",
    "\n",
    "import matplotlib.pyplot as plt\n",
    "import seaborn as sns\n",
    "\n",
    "from sklearn.feature_selection import f_classif, mutual_info_classif\n",
    "from sklearn.preprocessing import LabelEncoder, OneHotEncoder, StandardScaler\n",
    "from sklearn.preprocessing import PolynomialFeatures, OrdinalEncoder\n",
    "from sklearn.model_selection import GridSearchCV\n",
    "\n",
    "from sklearn.model_selection import train_test_split\n",
    "from sklearn.linear_model import LogisticRegression\n",
    "from sklearn.metrics import plot_confusion_matrix, plot_roc_curve, plot_precision_recall_curve\n",
    "\n",
    "\n",
    "from sklearn.metrics import confusion_matrix\n",
    "from sklearn.metrics import auc, roc_auc_score, roc_curve, f1_score, accuracy_score, recall_score, precision_score\n",
    "\n",
    "import warnings\n",
    "warnings.filterwarnings(\"ignore\")\n",
    "\n",
    "# You can write up to 20GB to the current directory (/kaggle/working/) that gets preserved as output when you create a version using \"Save & Run All\" \n",
    "# You can also write temporary files to /kaggle/temp/, but they won't be saved outside of the current session"
   ]
  },
  {
   "cell_type": "code",
   "execution_count": 54,
   "metadata": {
    "execution": {
     "iopub.execute_input": "2021-06-24T15:38:27.439501Z",
     "iopub.status.busy": "2021-06-24T15:38:27.439085Z",
     "iopub.status.idle": "2021-06-24T15:38:27.625198Z",
     "shell.execute_reply": "2021-06-24T15:38:27.624005Z",
     "shell.execute_reply.started": "2021-06-24T15:38:27.439467Z"
    }
   },
   "outputs": [],
   "source": [
    "train = pd.read_csv('/kaggle/input/sf-dst-scoring/train.csv')\n",
    "test= pd.read_csv('/kaggle/input/sf-dst-scoring/test.csv')"
   ]
  },
  {
   "cell_type": "markdown",
   "metadata": {
    "execution": {
     "iopub.execute_input": "2021-06-23T11:38:53.109037Z",
     "iopub.status.busy": "2021-06-23T11:38:53.108727Z",
     "iopub.status.idle": "2021-06-23T11:38:53.117929Z",
     "shell.execute_reply": "2021-06-23T11:38:53.116801Z",
     "shell.execute_reply.started": "2021-06-23T11:38:53.109005Z"
    }
   },
   "source": [
    "Описания признаков\n",
    "\n",
    "1. client_id - идентификатор клиента\n",
    "2. education - уровень образования\n",
    "3. sex - пол заемщика\n",
    "4. age - возраст заемщика\n",
    "5. car - флаг наличия автомобиля\n",
    "6. car_type - флаг автомобиля иномарки\n",
    "7. decline_app_cnt - количество отказанных прошлых заявок\n",
    "8. good_work - флаг наличия “хорошей” работы\n",
    "9. bki_request_cnt - количество запросов в БКИ\n",
    "10. home_address - категоризатор домашнего адреса\n",
    "11. work_address - категоризатор рабочего адреса\n",
    "12. income - доход заемщика\n",
    "13. foreign_passport - наличие загранпаспорта\n",
    "14. sna - связь заемщика с клиентами банка\n",
    "15. first_time - давность наличия информации о заемщике\n",
    "16. score_bki - скоринговый балл по данным из БКИ\n",
    "17. region_rating - рейтинг региона\n",
    "18. app_date - дата подачи заявки\n",
    "19. default - флаг дефолта по кредиту"
   ]
  },
  {
   "cell_type": "code",
   "execution_count": 55,
   "metadata": {
    "execution": {
     "iopub.execute_input": "2021-06-24T15:38:27.627140Z",
     "iopub.status.busy": "2021-06-24T15:38:27.626853Z",
     "iopub.status.idle": "2021-06-24T15:38:27.681423Z",
     "shell.execute_reply": "2021-06-24T15:38:27.680076Z",
     "shell.execute_reply.started": "2021-06-24T15:38:27.627114Z"
    }
   },
   "outputs": [],
   "source": [
    "#  для корректной обработки признаков объединяем трейн и тест в один датасет\n",
    "train['sample'] = 1 # помечаем где у нас трейн\n",
    "test['sample'] = 0 # помечаем где у нас тест\n",
    "test['default'] = 0 # в тесте у нас нет значения\n",
    "\n",
    "data = test.append(train, sort=False).reset_index(drop=True) # объединяем"
   ]
  },
  {
   "cell_type": "code",
   "execution_count": 56,
   "metadata": {
    "execution": {
     "iopub.execute_input": "2021-06-24T15:38:27.684153Z",
     "iopub.status.busy": "2021-06-24T15:38:27.683764Z",
     "iopub.status.idle": "2021-06-24T15:38:27.706978Z",
     "shell.execute_reply": "2021-06-24T15:38:27.705838Z",
     "shell.execute_reply.started": "2021-06-24T15:38:27.684116Z"
    }
   },
   "outputs": [
    {
     "data": {
      "text/html": [
       "<div>\n",
       "<style scoped>\n",
       "    .dataframe tbody tr th:only-of-type {\n",
       "        vertical-align: middle;\n",
       "    }\n",
       "\n",
       "    .dataframe tbody tr th {\n",
       "        vertical-align: top;\n",
       "    }\n",
       "\n",
       "    .dataframe thead th {\n",
       "        text-align: right;\n",
       "    }\n",
       "</style>\n",
       "<table border=\"1\" class=\"dataframe\">\n",
       "  <thead>\n",
       "    <tr style=\"text-align: right;\">\n",
       "      <th></th>\n",
       "      <th>client_id</th>\n",
       "      <th>app_date</th>\n",
       "      <th>education</th>\n",
       "      <th>sex</th>\n",
       "      <th>age</th>\n",
       "      <th>car</th>\n",
       "      <th>car_type</th>\n",
       "      <th>decline_app_cnt</th>\n",
       "      <th>good_work</th>\n",
       "      <th>score_bki</th>\n",
       "      <th>bki_request_cnt</th>\n",
       "      <th>region_rating</th>\n",
       "      <th>home_address</th>\n",
       "      <th>work_address</th>\n",
       "      <th>income</th>\n",
       "      <th>sna</th>\n",
       "      <th>first_time</th>\n",
       "      <th>foreign_passport</th>\n",
       "      <th>sample</th>\n",
       "      <th>default</th>\n",
       "    </tr>\n",
       "  </thead>\n",
       "  <tbody>\n",
       "    <tr>\n",
       "      <th>0</th>\n",
       "      <td>74835</td>\n",
       "      <td>22MAR2014</td>\n",
       "      <td>GRD</td>\n",
       "      <td>M</td>\n",
       "      <td>29</td>\n",
       "      <td>Y</td>\n",
       "      <td>Y</td>\n",
       "      <td>0</td>\n",
       "      <td>0</td>\n",
       "      <td>-2.271884</td>\n",
       "      <td>3</td>\n",
       "      <td>50</td>\n",
       "      <td>1</td>\n",
       "      <td>2</td>\n",
       "      <td>50000</td>\n",
       "      <td>1</td>\n",
       "      <td>4</td>\n",
       "      <td>N</td>\n",
       "      <td>0</td>\n",
       "      <td>0</td>\n",
       "    </tr>\n",
       "    <tr>\n",
       "      <th>1</th>\n",
       "      <td>17527</td>\n",
       "      <td>24JAN2014</td>\n",
       "      <td>SCH</td>\n",
       "      <td>F</td>\n",
       "      <td>39</td>\n",
       "      <td>N</td>\n",
       "      <td>N</td>\n",
       "      <td>5</td>\n",
       "      <td>0</td>\n",
       "      <td>-1.504999</td>\n",
       "      <td>2</td>\n",
       "      <td>50</td>\n",
       "      <td>1</td>\n",
       "      <td>2</td>\n",
       "      <td>5000</td>\n",
       "      <td>4</td>\n",
       "      <td>3</td>\n",
       "      <td>N</td>\n",
       "      <td>0</td>\n",
       "      <td>0</td>\n",
       "    </tr>\n",
       "    <tr>\n",
       "      <th>2</th>\n",
       "      <td>75683</td>\n",
       "      <td>23MAR2014</td>\n",
       "      <td>UGR</td>\n",
       "      <td>M</td>\n",
       "      <td>50</td>\n",
       "      <td>Y</td>\n",
       "      <td>Y</td>\n",
       "      <td>0</td>\n",
       "      <td>0</td>\n",
       "      <td>-1.691339</td>\n",
       "      <td>1</td>\n",
       "      <td>50</td>\n",
       "      <td>1</td>\n",
       "      <td>2</td>\n",
       "      <td>30000</td>\n",
       "      <td>1</td>\n",
       "      <td>3</td>\n",
       "      <td>Y</td>\n",
       "      <td>0</td>\n",
       "      <td>0</td>\n",
       "    </tr>\n",
       "    <tr>\n",
       "      <th>3</th>\n",
       "      <td>26883</td>\n",
       "      <td>03FEB2014</td>\n",
       "      <td>SCH</td>\n",
       "      <td>M</td>\n",
       "      <td>56</td>\n",
       "      <td>N</td>\n",
       "      <td>N</td>\n",
       "      <td>0</td>\n",
       "      <td>0</td>\n",
       "      <td>-2.374182</td>\n",
       "      <td>1</td>\n",
       "      <td>40</td>\n",
       "      <td>1</td>\n",
       "      <td>2</td>\n",
       "      <td>17000</td>\n",
       "      <td>1</td>\n",
       "      <td>3</td>\n",
       "      <td>N</td>\n",
       "      <td>0</td>\n",
       "      <td>0</td>\n",
       "    </tr>\n",
       "    <tr>\n",
       "      <th>4</th>\n",
       "      <td>28862</td>\n",
       "      <td>04FEB2014</td>\n",
       "      <td>GRD</td>\n",
       "      <td>F</td>\n",
       "      <td>38</td>\n",
       "      <td>N</td>\n",
       "      <td>N</td>\n",
       "      <td>0</td>\n",
       "      <td>0</td>\n",
       "      <td>-2.487502</td>\n",
       "      <td>0</td>\n",
       "      <td>80</td>\n",
       "      <td>2</td>\n",
       "      <td>3</td>\n",
       "      <td>120000</td>\n",
       "      <td>1</td>\n",
       "      <td>3</td>\n",
       "      <td>N</td>\n",
       "      <td>0</td>\n",
       "      <td>0</td>\n",
       "    </tr>\n",
       "  </tbody>\n",
       "</table>\n",
       "</div>"
      ],
      "text/plain": [
       "   client_id   app_date education sex  age car car_type  decline_app_cnt  \\\n",
       "0      74835  22MAR2014       GRD   M   29   Y        Y                0   \n",
       "1      17527  24JAN2014       SCH   F   39   N        N                5   \n",
       "2      75683  23MAR2014       UGR   M   50   Y        Y                0   \n",
       "3      26883  03FEB2014       SCH   M   56   N        N                0   \n",
       "4      28862  04FEB2014       GRD   F   38   N        N                0   \n",
       "\n",
       "   good_work  score_bki  bki_request_cnt  region_rating  home_address  \\\n",
       "0          0  -2.271884                3             50             1   \n",
       "1          0  -1.504999                2             50             1   \n",
       "2          0  -1.691339                1             50             1   \n",
       "3          0  -2.374182                1             40             1   \n",
       "4          0  -2.487502                0             80             2   \n",
       "\n",
       "   work_address  income  sna  first_time foreign_passport  sample  default  \n",
       "0             2   50000    1           4                N       0        0  \n",
       "1             2    5000    4           3                N       0        0  \n",
       "2             2   30000    1           3                Y       0        0  \n",
       "3             2   17000    1           3                N       0        0  \n",
       "4             3  120000    1           3                N       0        0  "
      ]
     },
     "execution_count": 56,
     "metadata": {},
     "output_type": "execute_result"
    }
   ],
   "source": [
    "# осматриваем данные\n",
    "data.head()"
   ]
  },
  {
   "cell_type": "code",
   "execution_count": 57,
   "metadata": {
    "execution": {
     "iopub.execute_input": "2021-06-24T15:38:27.708904Z",
     "iopub.status.busy": "2021-06-24T15:38:27.708603Z",
     "iopub.status.idle": "2021-06-24T15:38:27.785665Z",
     "shell.execute_reply": "2021-06-24T15:38:27.784498Z",
     "shell.execute_reply.started": "2021-06-24T15:38:27.708876Z"
    }
   },
   "outputs": [
    {
     "data": {
      "text/plain": [
       "client_id             0\n",
       "app_date              0\n",
       "education           478\n",
       "sex                   0\n",
       "age                   0\n",
       "car                   0\n",
       "car_type              0\n",
       "decline_app_cnt       0\n",
       "good_work             0\n",
       "score_bki             0\n",
       "bki_request_cnt       0\n",
       "region_rating         0\n",
       "home_address          0\n",
       "work_address          0\n",
       "income                0\n",
       "sna                   0\n",
       "first_time            0\n",
       "foreign_passport      0\n",
       "sample                0\n",
       "default               0\n",
       "dtype: int64"
      ]
     },
     "execution_count": 57,
     "metadata": {},
     "output_type": "execute_result"
    }
   ],
   "source": [
    "# проверим датасет на наличие пропусков\n",
    "data.isnull().sum()"
   ]
  },
  {
   "cell_type": "code",
   "execution_count": 58,
   "metadata": {
    "execution": {
     "iopub.execute_input": "2021-06-24T15:38:27.787606Z",
     "iopub.status.busy": "2021-06-24T15:38:27.787253Z",
     "iopub.status.idle": "2021-06-24T15:38:27.964721Z",
     "shell.execute_reply": "2021-06-24T15:38:27.963261Z",
     "shell.execute_reply.started": "2021-06-24T15:38:27.787571Z"
    }
   },
   "outputs": [
    {
     "data": {
      "text/plain": [
       "<AxesSubplot:>"
      ]
     },
     "execution_count": 58,
     "metadata": {},
     "output_type": "execute_result"
    },
    {
     "data": {
      "image/png": "[encoded data removed]",
      "text/plain": [
       "<Figure size 432x288 with 1 Axes>"
      ]
     },
     "metadata": {
      "needs_background": "light"
     },
     "output_type": "display_data"
    }
   ],
   "source": [
    "# осмотрим признак\n",
    "data['education'].value_counts().plot.barh()"
   ]
  },
  {
   "cell_type": "code",
   "execution_count": 59,
   "metadata": {
    "execution": {
     "iopub.execute_input": "2021-06-24T15:38:27.966905Z",
     "iopub.status.busy": "2021-06-24T15:38:27.966549Z",
     "iopub.status.idle": "2021-06-24T15:38:28.023769Z",
     "shell.execute_reply": "2021-06-24T15:38:28.022861Z",
     "shell.execute_reply.started": "2021-06-24T15:38:27.966872Z"
    }
   },
   "outputs": [],
   "source": [
    "# заменяем пропуски с помощью вероятностного присвоения\n",
    "mask = data[\"education\"].isna()\n",
    "# считаем статистику распределения значений\n",
    "p = data[\"education\"].value_counts() / len(data[\"education\"].dropna())\n",
    "# заполняем пропуски с вероятностью `p`\n",
    "data.loc[mask, \"education\"] = \\\n",
    "    np.random.choice(p.index.to_list(), \n",
    "                     size=mask.sum(), \n",
    "                     p=p.to_list())"
   ]
  },
  {
   "cell_type": "code",
   "execution_count": 60,
   "metadata": {
    "execution": {
     "iopub.execute_input": "2021-06-24T15:38:28.025346Z",
     "iopub.status.busy": "2021-06-24T15:38:28.024894Z",
     "iopub.status.idle": "2021-06-24T15:38:28.094782Z",
     "shell.execute_reply": "2021-06-24T15:38:28.093914Z",
     "shell.execute_reply.started": "2021-06-24T15:38:28.025307Z"
    }
   },
   "outputs": [
    {
     "data": {
      "text/plain": [
       "0"
      ]
     },
     "execution_count": 60,
     "metadata": {},
     "output_type": "execute_result"
    }
   ],
   "source": [
    "# проверим результат \n",
    "data.isnull().sum().sum()"
   ]
  },
  {
   "cell_type": "code",
   "execution_count": 61,
   "metadata": {
    "execution": {
     "iopub.execute_input": "2021-06-24T15:38:28.097966Z",
     "iopub.status.busy": "2021-06-24T15:38:28.097657Z",
     "iopub.status.idle": "2021-06-24T15:38:28.200218Z",
     "shell.execute_reply": "2021-06-24T15:38:28.198920Z",
     "shell.execute_reply.started": "2021-06-24T15:38:28.097939Z"
    }
   },
   "outputs": [],
   "source": [
    "# преобразуем признак 'app_date' в приемлимый формат и извлечём данные, с которыми можно работать:\n",
    "data['app_date'] = pd.to_datetime(data['app_date'])\n",
    "data['app_day'] = data.app_date.dt.day     # извлекли в \n",
    "data['app_month'] = data.app_date.dt.month\n",
    "data[\"app_weekday\"] = data[\"app_date\"].dt.weekday\n",
    "# удалим теперь уже ненужный столбец\n",
    "data.drop([\"app_date\"], axis=1, inplace=True)"
   ]
  },
  {
   "cell_type": "code",
   "execution_count": 62,
   "metadata": {
    "execution": {
     "iopub.execute_input": "2021-06-24T15:38:28.203683Z",
     "iopub.status.busy": "2021-06-24T15:38:28.203199Z",
     "iopub.status.idle": "2021-06-24T15:38:28.210582Z",
     "shell.execute_reply": "2021-06-24T15:38:28.209742Z",
     "shell.execute_reply.started": "2021-06-24T15:38:28.203637Z"
    }
   },
   "outputs": [],
   "source": [
    "# создадим признак \"процент отказа в заявке\"\n",
    "#data['decline_perc'] = data['decline_app_cnt']/data['bki_request_cnt']\n",
    "\n",
    "# создадим признак \"количество согласованных заявок\"\n",
    "data['acepted_request'] = data['bki_request_cnt'] - data['decline_app_cnt']\n"
   ]
  },
  {
   "cell_type": "code",
   "execution_count": 63,
   "metadata": {
    "execution": {
     "iopub.execute_input": "2021-06-24T15:38:28.212336Z",
     "iopub.status.busy": "2021-06-24T15:38:28.211733Z",
     "iopub.status.idle": "2021-06-24T15:38:28.234488Z",
     "shell.execute_reply": "2021-06-24T15:38:28.233467Z",
     "shell.execute_reply.started": "2021-06-24T15:38:28.212292Z"
    }
   },
   "outputs": [
    {
     "data": {
      "text/plain": [
       " 0     28710\n",
       " 1     26412\n",
       " 2     19189\n",
       " 3     12593\n",
       " 4      7641\n",
       " 5      4419\n",
       "-1      3756\n",
       " 6      2146\n",
       "-2      1144\n",
       " 7      1135\n",
       " 8       643\n",
       "-3       416\n",
       " 9       404\n",
       " 10      288\n",
       " 11      256\n",
       "-4       180\n",
       " 12      148\n",
       " 13      119\n",
       " 14       98\n",
       "-5        83\n",
       " 15       58\n",
       " 16       51\n",
       "-6        41\n",
       " 18       28\n",
       "-7        24\n",
       " 19       24\n",
       " 17       18\n",
       " 21       15\n",
       "-8        14\n",
       " 22       11\n",
       "-10       10\n",
       "-9         9\n",
       " 23        9\n",
       " 20        9\n",
       " 25        6\n",
       " 27        5\n",
       " 32        4\n",
       " 24        4\n",
       "-13        3\n",
       "-11        3\n",
       " 28        3\n",
       "-14        2\n",
       " 31        2\n",
       " 26        2\n",
       "-16        1\n",
       "-18        1\n",
       "-12        1\n",
       "-19        1\n",
       " 53        1\n",
       " 44        1\n",
       "-21        1\n",
       " 42        1\n",
       " 41        1\n",
       " 38        1\n",
       " 34        1\n",
       " 30        1\n",
       "-31        1\n",
       "Name: acepted_request, dtype: int64"
      ]
     },
     "execution_count": 63,
     "metadata": {},
     "output_type": "execute_result"
    }
   ],
   "source": [
    "data['acepted_request'].value_counts()"
   ]
  },
  {
   "cell_type": "code",
   "execution_count": 64,
   "metadata": {
    "execution": {
     "iopub.execute_input": "2021-06-24T15:38:28.236752Z",
     "iopub.status.busy": "2021-06-24T15:38:28.236310Z",
     "iopub.status.idle": "2021-06-24T15:38:28.264499Z",
     "shell.execute_reply": "2021-06-24T15:38:28.263834Z",
     "shell.execute_reply.started": "2021-06-24T15:38:28.236700Z"
    }
   },
   "outputs": [
    {
     "data": {
      "text/html": [
       "<div>\n",
       "<style scoped>\n",
       "    .dataframe tbody tr th:only-of-type {\n",
       "        vertical-align: middle;\n",
       "    }\n",
       "\n",
       "    .dataframe tbody tr th {\n",
       "        vertical-align: top;\n",
       "    }\n",
       "\n",
       "    .dataframe thead th {\n",
       "        text-align: right;\n",
       "    }\n",
       "</style>\n",
       "<table border=\"1\" class=\"dataframe\">\n",
       "  <thead>\n",
       "    <tr style=\"text-align: right;\">\n",
       "      <th></th>\n",
       "      <th>client_id</th>\n",
       "      <th>education</th>\n",
       "      <th>sex</th>\n",
       "      <th>age</th>\n",
       "      <th>car</th>\n",
       "      <th>car_type</th>\n",
       "      <th>decline_app_cnt</th>\n",
       "      <th>good_work</th>\n",
       "      <th>score_bki</th>\n",
       "      <th>bki_request_cnt</th>\n",
       "      <th>...</th>\n",
       "      <th>income</th>\n",
       "      <th>sna</th>\n",
       "      <th>first_time</th>\n",
       "      <th>foreign_passport</th>\n",
       "      <th>sample</th>\n",
       "      <th>default</th>\n",
       "      <th>app_day</th>\n",
       "      <th>app_month</th>\n",
       "      <th>app_weekday</th>\n",
       "      <th>acepted_request</th>\n",
       "    </tr>\n",
       "  </thead>\n",
       "  <tbody>\n",
       "    <tr>\n",
       "      <th>0</th>\n",
       "      <td>74835</td>\n",
       "      <td>GRD</td>\n",
       "      <td>M</td>\n",
       "      <td>29</td>\n",
       "      <td>Y</td>\n",
       "      <td>Y</td>\n",
       "      <td>0</td>\n",
       "      <td>0</td>\n",
       "      <td>-2.271884</td>\n",
       "      <td>3</td>\n",
       "      <td>...</td>\n",
       "      <td>50000</td>\n",
       "      <td>1</td>\n",
       "      <td>4</td>\n",
       "      <td>N</td>\n",
       "      <td>0</td>\n",
       "      <td>0</td>\n",
       "      <td>22</td>\n",
       "      <td>3</td>\n",
       "      <td>5</td>\n",
       "      <td>3</td>\n",
       "    </tr>\n",
       "    <tr>\n",
       "      <th>1</th>\n",
       "      <td>17527</td>\n",
       "      <td>SCH</td>\n",
       "      <td>F</td>\n",
       "      <td>39</td>\n",
       "      <td>N</td>\n",
       "      <td>N</td>\n",
       "      <td>5</td>\n",
       "      <td>0</td>\n",
       "      <td>-1.504999</td>\n",
       "      <td>2</td>\n",
       "      <td>...</td>\n",
       "      <td>5000</td>\n",
       "      <td>4</td>\n",
       "      <td>3</td>\n",
       "      <td>N</td>\n",
       "      <td>0</td>\n",
       "      <td>0</td>\n",
       "      <td>24</td>\n",
       "      <td>1</td>\n",
       "      <td>4</td>\n",
       "      <td>-3</td>\n",
       "    </tr>\n",
       "    <tr>\n",
       "      <th>2</th>\n",
       "      <td>75683</td>\n",
       "      <td>UGR</td>\n",
       "      <td>M</td>\n",
       "      <td>50</td>\n",
       "      <td>Y</td>\n",
       "      <td>Y</td>\n",
       "      <td>0</td>\n",
       "      <td>0</td>\n",
       "      <td>-1.691339</td>\n",
       "      <td>1</td>\n",
       "      <td>...</td>\n",
       "      <td>30000</td>\n",
       "      <td>1</td>\n",
       "      <td>3</td>\n",
       "      <td>Y</td>\n",
       "      <td>0</td>\n",
       "      <td>0</td>\n",
       "      <td>23</td>\n",
       "      <td>3</td>\n",
       "      <td>6</td>\n",
       "      <td>1</td>\n",
       "    </tr>\n",
       "    <tr>\n",
       "      <th>3</th>\n",
       "      <td>26883</td>\n",
       "      <td>SCH</td>\n",
       "      <td>M</td>\n",
       "      <td>56</td>\n",
       "      <td>N</td>\n",
       "      <td>N</td>\n",
       "      <td>0</td>\n",
       "      <td>0</td>\n",
       "      <td>-2.374182</td>\n",
       "      <td>1</td>\n",
       "      <td>...</td>\n",
       "      <td>17000</td>\n",
       "      <td>1</td>\n",
       "      <td>3</td>\n",
       "      <td>N</td>\n",
       "      <td>0</td>\n",
       "      <td>0</td>\n",
       "      <td>3</td>\n",
       "      <td>2</td>\n",
       "      <td>0</td>\n",
       "      <td>1</td>\n",
       "    </tr>\n",
       "    <tr>\n",
       "      <th>4</th>\n",
       "      <td>28862</td>\n",
       "      <td>GRD</td>\n",
       "      <td>F</td>\n",
       "      <td>38</td>\n",
       "      <td>N</td>\n",
       "      <td>N</td>\n",
       "      <td>0</td>\n",
       "      <td>0</td>\n",
       "      <td>-2.487502</td>\n",
       "      <td>0</td>\n",
       "      <td>...</td>\n",
       "      <td>120000</td>\n",
       "      <td>1</td>\n",
       "      <td>3</td>\n",
       "      <td>N</td>\n",
       "      <td>0</td>\n",
       "      <td>0</td>\n",
       "      <td>4</td>\n",
       "      <td>2</td>\n",
       "      <td>1</td>\n",
       "      <td>0</td>\n",
       "    </tr>\n",
       "  </tbody>\n",
       "</table>\n",
       "<p>5 rows × 23 columns</p>\n",
       "</div>"
      ],
      "text/plain": [
       "   client_id education sex  age car car_type  decline_app_cnt  good_work  \\\n",
       "0      74835       GRD   M   29   Y        Y                0          0   \n",
       "1      17527       SCH   F   39   N        N                5          0   \n",
       "2      75683       UGR   M   50   Y        Y                0          0   \n",
       "3      26883       SCH   M   56   N        N                0          0   \n",
       "4      28862       GRD   F   38   N        N                0          0   \n",
       "\n",
       "   score_bki  bki_request_cnt  ...  income  sna  first_time  foreign_passport  \\\n",
       "0  -2.271884                3  ...   50000    1           4                 N   \n",
       "1  -1.504999                2  ...    5000    4           3                 N   \n",
       "2  -1.691339                1  ...   30000    1           3                 Y   \n",
       "3  -2.374182                1  ...   17000    1           3                 N   \n",
       "4  -2.487502                0  ...  120000    1           3                 N   \n",
       "\n",
       "   sample  default app_day  app_month  app_weekday  acepted_request  \n",
       "0       0        0      22          3            5                3  \n",
       "1       0        0      24          1            4               -3  \n",
       "2       0        0      23          3            6                1  \n",
       "3       0        0       3          2            0                1  \n",
       "4       0        0       4          2            1                0  \n",
       "\n",
       "[5 rows x 23 columns]"
      ]
     },
     "execution_count": 64,
     "metadata": {},
     "output_type": "execute_result"
    }
   ],
   "source": [
    "data.head()"
   ]
  },
  {
   "cell_type": "code",
   "execution_count": 65,
   "metadata": {
    "execution": {
     "iopub.execute_input": "2021-06-24T15:38:28.265874Z",
     "iopub.status.busy": "2021-06-24T15:38:28.265492Z",
     "iopub.status.idle": "2021-06-24T15:38:28.300319Z",
     "shell.execute_reply": "2021-06-24T15:38:28.299525Z",
     "shell.execute_reply.started": "2021-06-24T15:38:28.265846Z"
    }
   },
   "outputs": [],
   "source": [
    "# разделим признаки по категориям:\n",
    "\n",
    "# числовые признаки\n",
    "num_cols = data[[\"age\", \"decline_app_cnt\", \"score_bki\",\n",
    "            \"bki_request_cnt\", \"income\", \"acepted_request\" ]]\n",
    "\n",
    "# бинарные признаки\n",
    "bin_cols = data[[\"sex\", \"car\", \"car_type\", \"good_work\", \"foreign_passport\"]]\n",
    "\n",
    "# категориальные признаки\n",
    "cat_cols = data[[\"education\", \"region_rating\", \"home_address\", \"work_address\", \"sna\"\n",
    "                 ,\"app_day\", \"app_month\", \"app_weekday\", \"first_time\"]]"
   ]
  },
  {
   "cell_type": "code",
   "execution_count": 66,
   "metadata": {
    "execution": {
     "iopub.execute_input": "2021-06-24T15:38:28.301806Z",
     "iopub.status.busy": "2021-06-24T15:38:28.301358Z",
     "iopub.status.idle": "2021-06-24T15:38:29.836873Z",
     "shell.execute_reply": "2021-06-24T15:38:29.835613Z",
     "shell.execute_reply.started": "2021-06-24T15:38:28.301777Z"
    }
   },
   "outputs": [
    {
     "data": {
      "image/png": "[encoded data removed]",
      "text/plain": [
       "<Figure size 432x288 with 1 Axes>"
      ]
     },
     "metadata": {
      "needs_background": "light"
     },
     "output_type": "display_data"
    },
    {
     "data": {
      "image/png": "[encoded data removed]",
      "text/plain": [
       "<Figure size 432x288 with 1 Axes>"
      ]
     },
     "metadata": {
      "needs_background": "light"
     },
     "output_type": "display_data"
    },
    {
     "data": {
      "image/png": "[encoded data removed]",
      "text/plain": [
       "<Figure size 432x288 with 1 Axes>"
      ]
     },
     "metadata": {
      "needs_background": "light"
     },
     "output_type": "display_data"
    },
    {
     "data": {
      "image/png": "[encoded data removed]",
      "text/plain": [
       "<Figure size 432x288 with 1 Axes>"
      ]
     },
     "metadata": {
      "needs_background": "light"
     },
     "output_type": "display_data"
    },
    {
     "data": {
      "image/png": "[encoded data removed]",
      "text/plain": [
       "<Figure size 432x288 with 1 Axes>"
      ]
     },
     "metadata": {
      "needs_background": "light"
     },
     "output_type": "display_data"
    },
    {
     "data": {
      "image/png": "[encoded data removed]",
      "text/plain": [
       "<Figure size 432x288 with 1 Axes>"
      ]
     },
     "metadata": {
      "needs_background": "light"
     },
     "output_type": "display_data"
    }
   ],
   "source": [
    "# осмотрим числовые признаки\n",
    "for col in num_cols:\n",
    "    plt.figure()\n",
    "    plt.title(f\"Распределение {col}\")\n",
    "    sns.distplot(data[col], kde=False)"
   ]
  },
  {
   "cell_type": "code",
   "execution_count": 67,
   "metadata": {
    "execution": {
     "iopub.execute_input": "2021-06-24T15:38:29.838556Z",
     "iopub.status.busy": "2021-06-24T15:38:29.838198Z",
     "iopub.status.idle": "2021-06-24T15:38:30.847320Z",
     "shell.execute_reply": "2021-06-24T15:38:30.846035Z",
     "shell.execute_reply.started": "2021-06-24T15:38:29.838527Z"
    }
   },
   "outputs": [
    {
     "data": {
      "image/png": "[encoded data removed]",
      "text/plain": [
       "<Figure size 432x288 with 1 Axes>"
      ]
     },
     "metadata": {
      "needs_background": "light"
     },
     "output_type": "display_data"
    },
    {
     "data": {
      "image/png": "[encoded data removed]",
      "text/plain": [
       "<Figure size 432x288 with 1 Axes>"
      ]
     },
     "metadata": {
      "needs_background": "light"
     },
     "output_type": "display_data"
    },
    {
     "data": {
      "image/png": "[encoded data removed]",
      "text/plain": [
       "<Figure size 432x288 with 1 Axes>"
      ]
     },
     "metadata": {
      "needs_background": "light"
     },
     "output_type": "display_data"
    },
    {
     "data": {
      "image/png": "[encoded data removed]",
      "text/plain": [
       "<Figure size 432x288 with 1 Axes>"
      ]
     },
     "metadata": {
      "needs_background": "light"
     },
     "output_type": "display_data"
    }
   ],
   "source": [
    "# для более нормального распределения, логарифмируем некоторые признаки\n",
    "num_cols[[\"age\", \"decline_app_cnt\", \"bki_request_cnt\", \"income\"]] = np.log(num_cols[[\"age\",\n",
    "                            \"decline_app_cnt\", \"bki_request_cnt\", \"income\"]] + 1)\n",
    "# и сразу их осмотрим\n",
    "for col in num_cols[[\"age\", \"decline_app_cnt\", \"bki_request_cnt\", \"income\"]]:\n",
    "    plt.figure()\n",
    "    plt.title(f\"Распределение {col}\")\n",
    "    sns.distplot(num_cols[col], kde=False)"
   ]
  },
  {
   "cell_type": "code",
   "execution_count": 68,
   "metadata": {
    "execution": {
     "iopub.execute_input": "2021-06-24T15:38:30.848792Z",
     "iopub.status.busy": "2021-06-24T15:38:30.848491Z",
     "iopub.status.idle": "2021-06-24T15:38:31.786391Z",
     "shell.execute_reply": "2021-06-24T15:38:31.785212Z",
     "shell.execute_reply.started": "2021-06-24T15:38:30.848759Z"
    }
   },
   "outputs": [
    {
     "data": {
      "image/png": "[encoded data removed]",
      "text/plain": [
       "<Figure size 432x288 with 1 Axes>"
      ]
     },
     "metadata": {
      "needs_background": "light"
     },
     "output_type": "display_data"
    },
    {
     "data": {
      "image/png": "[encoded data removed]",
      "text/plain": [
       "<Figure size 432x288 with 1 Axes>"
      ]
     },
     "metadata": {
      "needs_background": "light"
     },
     "output_type": "display_data"
    },
    {
     "data": {
      "image/png": "[encoded data removed]",
      "text/plain": [
       "<Figure size 432x288 with 1 Axes>"
      ]
     },
     "metadata": {
      "needs_background": "light"
     },
     "output_type": "display_data"
    },
    {
     "data": {
      "image/png": "[encoded data removed]",
      "text/plain": [
       "<Figure size 432x288 with 1 Axes>"
      ]
     },
     "metadata": {
      "needs_background": "light"
     },
     "output_type": "display_data"
    },
    {
     "data": {
      "image/png": "[encoded data removed]",
      "text/plain": [
       "<Figure size 432x288 with 1 Axes>"
      ]
     },
     "metadata": {
      "needs_background": "light"
     },
     "output_type": "display_data"
    },
    {
     "data": {
      "image/png": "[encoded data removed]",
      "text/plain": [
       "<Figure size 432x288 with 1 Axes>"
      ]
     },
     "metadata": {
      "needs_background": "light"
     },
     "output_type": "display_data"
    }
   ],
   "source": [
    "# взглянем на боксплоты числовых переменных, относительно целевой\n",
    "for i in num_cols:\n",
    "    plt.figure()\n",
    "    sns.boxplot(x=data['default'], y = num_cols[i])\n",
    "    plt.title(i)\n",
    "    plt.show()"
   ]
  },
  {
   "cell_type": "markdown",
   "metadata": {
    "execution": {
     "iopub.execute_input": "2021-06-23T15:22:07.013991Z",
     "iopub.status.busy": "2021-06-23T15:22:07.013722Z",
     "iopub.status.idle": "2021-06-23T15:22:07.017879Z",
     "shell.execute_reply": "2021-06-23T15:22:07.016915Z",
     "shell.execute_reply.started": "2021-06-23T15:22:07.013964Z"
    }
   },
   "source": [
    "1. возраст дефолтных клиентов меньше\n",
    "2. дефолтные клиенты часто уже имели отказные заявки \n",
    "3. скоринговый балл у дефолтных выше\n",
    "4. у дефолтных клиентов больше запросов на кредит\n",
    "5. доход у дефолтных, в среднем, ниже\n"
   ]
  },
  {
   "cell_type": "code",
   "execution_count": 69,
   "metadata": {
    "execution": {
     "iopub.execute_input": "2021-06-24T15:38:31.788310Z",
     "iopub.status.busy": "2021-06-24T15:38:31.787992Z",
     "iopub.status.idle": "2021-06-24T15:38:32.213573Z",
     "shell.execute_reply": "2021-06-24T15:38:32.212419Z",
     "shell.execute_reply.started": "2021-06-24T15:38:31.788260Z"
    }
   },
   "outputs": [
    {
     "data": {
      "text/plain": [
       "<AxesSubplot:>"
      ]
     },
     "execution_count": 69,
     "metadata": {},
     "output_type": "execute_result"
    },
    {
     "data": {
      "image/png": "[encoded data removed]",
      "text/plain": [
       "<Figure size 864x432 with 2 Axes>"
      ]
     },
     "metadata": {
      "needs_background": "light"
     },
     "output_type": "display_data"
    }
   ],
   "source": [
    "# посмотрим на корреляцию признаков между собой\n",
    "plt.figure(figsize=(12, 6))\n",
    "sns.heatmap(num_cols.corr().abs(), vmin=0, vmax=1,\n",
    "            annot=True, fmt=\".3f\")"
   ]
  },
  {
   "cell_type": "markdown",
   "metadata": {},
   "source": [
    "На графике можно увидеть небольшую корреляцию между app_month и app_day, decline_app_cnt и score_bki\n"
   ]
  },
  {
   "cell_type": "code",
   "execution_count": 70,
   "metadata": {
    "execution": {
     "iopub.execute_input": "2021-06-24T15:38:32.215076Z",
     "iopub.status.busy": "2021-06-24T15:38:32.214780Z",
     "iopub.status.idle": "2021-06-24T15:38:32.377415Z",
     "shell.execute_reply": "2021-06-24T15:38:32.376233Z",
     "shell.execute_reply.started": "2021-06-24T15:38:32.215042Z"
    }
   },
   "outputs": [
    {
     "data": {
      "text/plain": [
       "<AxesSubplot:>"
      ]
     },
     "execution_count": 70,
     "metadata": {},
     "output_type": "execute_result"
    },
    {
     "data": {
      "image/png": "[encoded data removed]",
      "text/plain": [
       "<Figure size 432x288 with 1 Axes>"
      ]
     },
     "metadata": {
      "needs_background": "light"
     },
     "output_type": "display_data"
    }
   ],
   "source": [
    "#определяем значимость наших переменных\n",
    "imp_num = pd.Series(f_classif(num_cols, data['default'])[0], index=[num_cols.columns])\n",
    "imp_num.sort_values(inplace = True)\n",
    "imp_num.plot(kind = 'barh')"
   ]
  },
  {
   "cell_type": "code",
   "execution_count": 71,
   "metadata": {
    "execution": {
     "iopub.execute_input": "2021-06-24T15:38:32.379177Z",
     "iopub.status.busy": "2021-06-24T15:38:32.378876Z",
     "iopub.status.idle": "2021-06-24T15:38:32.541102Z",
     "shell.execute_reply": "2021-06-24T15:38:32.539931Z",
     "shell.execute_reply.started": "2021-06-24T15:38:32.379150Z"
    }
   },
   "outputs": [
    {
     "data": {
      "text/html": [
       "<div>\n",
       "<style scoped>\n",
       "    .dataframe tbody tr th:only-of-type {\n",
       "        vertical-align: middle;\n",
       "    }\n",
       "\n",
       "    .dataframe tbody tr th {\n",
       "        vertical-align: top;\n",
       "    }\n",
       "\n",
       "    .dataframe thead th {\n",
       "        text-align: right;\n",
       "    }\n",
       "</style>\n",
       "<table border=\"1\" class=\"dataframe\">\n",
       "  <thead>\n",
       "    <tr style=\"text-align: right;\">\n",
       "      <th></th>\n",
       "      <th>sex</th>\n",
       "      <th>car</th>\n",
       "      <th>car_type</th>\n",
       "      <th>good_work</th>\n",
       "      <th>foreign_passport</th>\n",
       "    </tr>\n",
       "  </thead>\n",
       "  <tbody>\n",
       "    <tr>\n",
       "      <th>0</th>\n",
       "      <td>1</td>\n",
       "      <td>1</td>\n",
       "      <td>1</td>\n",
       "      <td>0</td>\n",
       "      <td>0</td>\n",
       "    </tr>\n",
       "    <tr>\n",
       "      <th>1</th>\n",
       "      <td>0</td>\n",
       "      <td>0</td>\n",
       "      <td>0</td>\n",
       "      <td>0</td>\n",
       "      <td>0</td>\n",
       "    </tr>\n",
       "    <tr>\n",
       "      <th>2</th>\n",
       "      <td>1</td>\n",
       "      <td>1</td>\n",
       "      <td>1</td>\n",
       "      <td>0</td>\n",
       "      <td>1</td>\n",
       "    </tr>\n",
       "    <tr>\n",
       "      <th>3</th>\n",
       "      <td>1</td>\n",
       "      <td>0</td>\n",
       "      <td>0</td>\n",
       "      <td>0</td>\n",
       "      <td>0</td>\n",
       "    </tr>\n",
       "    <tr>\n",
       "      <th>4</th>\n",
       "      <td>0</td>\n",
       "      <td>0</td>\n",
       "      <td>0</td>\n",
       "      <td>0</td>\n",
       "      <td>0</td>\n",
       "    </tr>\n",
       "  </tbody>\n",
       "</table>\n",
       "</div>"
      ],
      "text/plain": [
       "   sex  car  car_type  good_work  foreign_passport\n",
       "0    1    1         1          0                 0\n",
       "1    0    0         0          0                 0\n",
       "2    1    1         1          0                 1\n",
       "3    1    0         0          0                 0\n",
       "4    0    0         0          0                 0"
      ]
     },
     "execution_count": 71,
     "metadata": {},
     "output_type": "execute_result"
    }
   ],
   "source": [
    "# заменяем бинарные категориальные признаки\n",
    "\n",
    "label_encoder = LabelEncoder()\n",
    "for column in bin_cols:\n",
    "    bin_cols[column] = label_encoder.fit_transform(data[column])\n",
    "    \n",
    "bin_cols.head()"
   ]
  },
  {
   "cell_type": "code",
   "execution_count": 72,
   "metadata": {
    "execution": {
     "iopub.execute_input": "2021-06-24T15:38:32.542891Z",
     "iopub.status.busy": "2021-06-24T15:38:32.542592Z",
     "iopub.status.idle": "2021-06-24T15:38:32.769222Z",
     "shell.execute_reply": "2021-06-24T15:38:32.768291Z",
     "shell.execute_reply.started": "2021-06-24T15:38:32.542863Z"
    }
   },
   "outputs": [
    {
     "data": {
      "text/plain": [
       "<AxesSubplot:>"
      ]
     },
     "execution_count": 72,
     "metadata": {},
     "output_type": "execute_result"
    },
    {
     "data": {
      "image/png": "[encoded data removed]",
      "text/plain": [
       "<Figure size 432x288 with 1 Axes>"
      ]
     },
     "metadata": {
      "needs_background": "light"
     },
     "output_type": "display_data"
    }
   ],
   "source": [
    "# произведём оценку значимости категориальных бинарных переменных\n",
    "imp_cat = pd.Series(mutual_info_classif(bin_cols, data['default'],\n",
    "                                     discrete_features =True), index = bin_cols.columns)\n",
    "imp_cat.sort_values(inplace = True)\n",
    "imp_cat.plot(kind = 'barh')"
   ]
  },
  {
   "cell_type": "code",
   "execution_count": 73,
   "metadata": {
    "execution": {
     "iopub.execute_input": "2021-06-24T15:38:32.770908Z",
     "iopub.status.busy": "2021-06-24T15:38:32.770629Z",
     "iopub.status.idle": "2021-06-24T15:38:32.818080Z",
     "shell.execute_reply": "2021-06-24T15:38:32.816693Z",
     "shell.execute_reply.started": "2021-06-24T15:38:32.770882Z"
    }
   },
   "outputs": [
    {
     "name": "stdout",
     "output_type": "stream",
     "text": [
      "{0: 'ACD', 1: 'GRD', 2: 'PGR', 3: 'SCH', 4: 'UGR'}\n"
     ]
    }
   ],
   "source": [
    "#преобразуем education\n",
    "label_encoder = LabelEncoder()\n",
    "\n",
    "mapped_education = pd.Series(label_encoder.fit_transform(data['education']))\n",
    "print(dict(enumerate(label_encoder.classes_))) # чтобы не забыть что куда преобразилось\n",
    "cat_cols['education'] = mapped_education"
   ]
  },
  {
   "cell_type": "code",
   "execution_count": 74,
   "metadata": {
    "execution": {
     "iopub.execute_input": "2021-06-24T15:38:32.821239Z",
     "iopub.status.busy": "2021-06-24T15:38:32.820452Z",
     "iopub.status.idle": "2021-06-24T15:38:32.996730Z",
     "shell.execute_reply": "2021-06-24T15:38:32.995534Z",
     "shell.execute_reply.started": "2021-06-24T15:38:32.821185Z"
    }
   },
   "outputs": [],
   "source": [
    "# воспользуемся dummy-кодированием для категориальных переменных\n",
    "X_cat = OneHotEncoder(sparse=False).fit_transform(cat_cols.values)\n",
    "\n",
    "X_cat = pd.DataFrame(X_cat)"
   ]
  },
  {
   "cell_type": "code",
   "execution_count": 75,
   "metadata": {
    "execution": {
     "iopub.execute_input": "2021-06-24T15:38:32.998840Z",
     "iopub.status.busy": "2021-06-24T15:38:32.998386Z",
     "iopub.status.idle": "2021-06-24T15:38:33.069788Z",
     "shell.execute_reply": "2021-06-24T15:38:33.068551Z",
     "shell.execute_reply.started": "2021-06-24T15:38:32.998795Z"
    }
   },
   "outputs": [],
   "source": [
    "# добавим новые признаки, через комбинацию чиловых признаков\n",
    "poly = PolynomialFeatures(2, include_bias=False)\n",
    "poly_data = poly.fit_transform(num_cols) \n",
    "poly_cols = poly.get_feature_names(input_features=None)\n",
    "\n",
    "# создадим из них новый df\n",
    "poly_df = pd.DataFrame(poly_data, columns=poly_cols)\n",
    "\n",
    "# сделаем итоговый df для числовых\n",
    "total_num = num_cols.join(poly_df,  how='left')"
   ]
  },
  {
   "cell_type": "code",
   "execution_count": 76,
   "metadata": {
    "execution": {
     "iopub.execute_input": "2021-06-24T15:38:33.074700Z",
     "iopub.status.busy": "2021-06-24T15:38:33.074368Z",
     "iopub.status.idle": "2021-06-24T15:38:33.210156Z",
     "shell.execute_reply": "2021-06-24T15:38:33.208769Z",
     "shell.execute_reply.started": "2021-06-24T15:38:33.074671Z"
    }
   },
   "outputs": [
    {
     "data": {
      "text/html": [
       "<div>\n",
       "<style scoped>\n",
       "    .dataframe tbody tr th:only-of-type {\n",
       "        vertical-align: middle;\n",
       "    }\n",
       "\n",
       "    .dataframe tbody tr th {\n",
       "        vertical-align: top;\n",
       "    }\n",
       "\n",
       "    .dataframe thead th {\n",
       "        text-align: right;\n",
       "    }\n",
       "</style>\n",
       "<table border=\"1\" class=\"dataframe\">\n",
       "  <thead>\n",
       "    <tr style=\"text-align: right;\">\n",
       "      <th></th>\n",
       "      <th>age</th>\n",
       "      <th>decline_app_cnt</th>\n",
       "      <th>score_bki</th>\n",
       "      <th>bki_request_cnt</th>\n",
       "      <th>income</th>\n",
       "      <th>acepted_request</th>\n",
       "      <th>x0</th>\n",
       "      <th>x1</th>\n",
       "      <th>x2</th>\n",
       "      <th>x3</th>\n",
       "      <th>...</th>\n",
       "      <th>x2^2</th>\n",
       "      <th>x2 x3</th>\n",
       "      <th>x2 x4</th>\n",
       "      <th>x2 x5</th>\n",
       "      <th>x3^2</th>\n",
       "      <th>x3 x4</th>\n",
       "      <th>x3 x5</th>\n",
       "      <th>x4^2</th>\n",
       "      <th>x4 x5</th>\n",
       "      <th>x5^2</th>\n",
       "    </tr>\n",
       "  </thead>\n",
       "  <tbody>\n",
       "    <tr>\n",
       "      <th>0</th>\n",
       "      <td>-0.888776</td>\n",
       "      <td>-0.418815</td>\n",
       "      <td>-0.735587</td>\n",
       "      <td>0.770563</td>\n",
       "      <td>0.680425</td>\n",
       "      <td>0.556248</td>\n",
       "      <td>-0.888776</td>\n",
       "      <td>-0.418815</td>\n",
       "      <td>-0.735587</td>\n",
       "      <td>0.770563</td>\n",
       "      <td>...</td>\n",
       "      <td>0.681949</td>\n",
       "      <td>-1.185623</td>\n",
       "      <td>-0.909130</td>\n",
       "      <td>-0.885629</td>\n",
       "      <td>0.536491</td>\n",
       "      <td>0.844739</td>\n",
       "      <td>0.262952</td>\n",
       "      <td>0.653368</td>\n",
       "      <td>0.591925</td>\n",
       "      <td>0.028294</td>\n",
       "    </tr>\n",
       "    <tr>\n",
       "      <th>1</th>\n",
       "      <td>0.120447</td>\n",
       "      <td>4.539989</td>\n",
       "      <td>0.800039</td>\n",
       "      <td>0.333797</td>\n",
       "      <td>-2.624624</td>\n",
       "      <td>-2.075420</td>\n",
       "      <td>0.120447</td>\n",
       "      <td>4.539989</td>\n",
       "      <td>0.800039</td>\n",
       "      <td>0.333797</td>\n",
       "      <td>...</td>\n",
       "      <td>-0.855419</td>\n",
       "      <td>-0.020538</td>\n",
       "      <td>1.282982</td>\n",
       "      <td>1.885898</td>\n",
       "      <td>0.000679</td>\n",
       "      <td>0.033064</td>\n",
       "      <td>-1.175484</td>\n",
       "      <td>-2.393484</td>\n",
       "      <td>-1.796467</td>\n",
       "      <td>0.028294</td>\n",
       "    </tr>\n",
       "    <tr>\n",
       "      <th>2</th>\n",
       "      <td>0.972731</td>\n",
       "      <td>-0.418815</td>\n",
       "      <td>0.426908</td>\n",
       "      <td>-0.281790</td>\n",
       "      <td>-0.052834</td>\n",
       "      <td>-0.320975</td>\n",
       "      <td>0.972731</td>\n",
       "      <td>-0.418815</td>\n",
       "      <td>0.426908</td>\n",
       "      <td>-0.281790</td>\n",
       "      <td>...</td>\n",
       "      <td>-0.539283</td>\n",
       "      <td>0.354092</td>\n",
       "      <td>0.422489</td>\n",
       "      <td>0.367800</td>\n",
       "      <td>-0.543853</td>\n",
       "      <td>-0.285107</td>\n",
       "      <td>-0.405784</td>\n",
       "      <td>-0.085236</td>\n",
       "      <td>-0.320029</td>\n",
       "      <td>-0.253645</td>\n",
       "    </tr>\n",
       "    <tr>\n",
       "      <th>3</th>\n",
       "      <td>1.362924</td>\n",
       "      <td>-0.418815</td>\n",
       "      <td>-0.940432</td>\n",
       "      <td>-0.281790</td>\n",
       "      <td>-0.868125</td>\n",
       "      <td>-0.320975</td>\n",
       "      <td>1.362924</td>\n",
       "      <td>-0.418815</td>\n",
       "      <td>-0.940432</td>\n",
       "      <td>-0.281790</td>\n",
       "      <td>...</td>\n",
       "      <td>0.934221</td>\n",
       "      <td>-0.014501</td>\n",
       "      <td>-0.638095</td>\n",
       "      <td>0.200774</td>\n",
       "      <td>-0.543853</td>\n",
       "      <td>-0.341741</td>\n",
       "      <td>-0.405784</td>\n",
       "      <td>-0.864542</td>\n",
       "      <td>-0.343412</td>\n",
       "      <td>-0.253645</td>\n",
       "    </tr>\n",
       "    <tr>\n",
       "      <th>4</th>\n",
       "      <td>0.031629</td>\n",
       "      <td>-0.418815</td>\n",
       "      <td>-1.167347</td>\n",
       "      <td>-1.334144</td>\n",
       "      <td>1.937123</td>\n",
       "      <td>-0.759586</td>\n",
       "      <td>0.031629</td>\n",
       "      <td>-0.418815</td>\n",
       "      <td>-1.167347</td>\n",
       "      <td>-1.334144</td>\n",
       "      <td>...</td>\n",
       "      <td>1.226642</td>\n",
       "      <td>1.267062</td>\n",
       "      <td>-1.749745</td>\n",
       "      <td>0.781509</td>\n",
       "      <td>-0.903968</td>\n",
       "      <td>-1.313080</td>\n",
       "      <td>-0.539531</td>\n",
       "      <td>2.002282</td>\n",
       "      <td>-0.744459</td>\n",
       "      <td>-0.288887</td>\n",
       "    </tr>\n",
       "  </tbody>\n",
       "</table>\n",
       "<p>5 rows × 33 columns</p>\n",
       "</div>"
      ],
      "text/plain": [
       "        age  decline_app_cnt  score_bki  bki_request_cnt    income  \\\n",
       "0 -0.888776        -0.418815  -0.735587         0.770563  0.680425   \n",
       "1  0.120447         4.539989   0.800039         0.333797 -2.624624   \n",
       "2  0.972731        -0.418815   0.426908        -0.281790 -0.052834   \n",
       "3  1.362924        -0.418815  -0.940432        -0.281790 -0.868125   \n",
       "4  0.031629        -0.418815  -1.167347        -1.334144  1.937123   \n",
       "\n",
       "   acepted_request        x0        x1        x2        x3  ...      x2^2  \\\n",
       "0         0.556248 -0.888776 -0.418815 -0.735587  0.770563  ...  0.681949   \n",
       "1        -2.075420  0.120447  4.539989  0.800039  0.333797  ... -0.855419   \n",
       "2        -0.320975  0.972731 -0.418815  0.426908 -0.281790  ... -0.539283   \n",
       "3        -0.320975  1.362924 -0.418815 -0.940432 -0.281790  ...  0.934221   \n",
       "4        -0.759586  0.031629 -0.418815 -1.167347 -1.334144  ...  1.226642   \n",
       "\n",
       "      x2 x3     x2 x4     x2 x5      x3^2     x3 x4     x3 x5      x4^2  \\\n",
       "0 -1.185623 -0.909130 -0.885629  0.536491  0.844739  0.262952  0.653368   \n",
       "1 -0.020538  1.282982  1.885898  0.000679  0.033064 -1.175484 -2.393484   \n",
       "2  0.354092  0.422489  0.367800 -0.543853 -0.285107 -0.405784 -0.085236   \n",
       "3 -0.014501 -0.638095  0.200774 -0.543853 -0.341741 -0.405784 -0.864542   \n",
       "4  1.267062 -1.749745  0.781509 -0.903968 -1.313080 -0.539531  2.002282   \n",
       "\n",
       "      x4 x5      x5^2  \n",
       "0  0.591925  0.028294  \n",
       "1 -1.796467  0.028294  \n",
       "2 -0.320029 -0.253645  \n",
       "3 -0.343412 -0.253645  \n",
       "4 -0.744459 -0.288887  \n",
       "\n",
       "[5 rows x 33 columns]"
      ]
     },
     "execution_count": 76,
     "metadata": {},
     "output_type": "execute_result"
    }
   ],
   "source": [
    "#стандартизация числовых переменных\n",
    "total_num = pd.DataFrame(StandardScaler().fit_transform(total_num), columns = total_num.columns)\n",
    "\n",
    "total_num.head()"
   ]
  },
  {
   "cell_type": "code",
   "execution_count": 77,
   "metadata": {
    "execution": {
     "iopub.execute_input": "2021-06-24T15:38:33.212385Z",
     "iopub.status.busy": "2021-06-24T15:38:33.212063Z",
     "iopub.status.idle": "2021-06-24T15:38:33.400741Z",
     "shell.execute_reply": "2021-06-24T15:38:33.399423Z",
     "shell.execute_reply.started": "2021-06-24T15:38:33.212356Z"
    }
   },
   "outputs": [],
   "source": [
    "# объединим обработку в один датасет\n",
    "data_for_fit = total_num.join(X_cat)\n",
    "data_for_fit = data_for_fit.join(bin_cols)\n",
    "data_for_fit = data_for_fit.join(data[['sample', 'default']])"
   ]
  },
  {
   "cell_type": "code",
   "execution_count": 78,
   "metadata": {
    "execution": {
     "iopub.execute_input": "2021-06-24T15:38:33.402990Z",
     "iopub.status.busy": "2021-06-24T15:38:33.402560Z",
     "iopub.status.idle": "2021-06-24T15:38:33.763892Z",
     "shell.execute_reply": "2021-06-24T15:38:33.762866Z",
     "shell.execute_reply.started": "2021-06-24T15:38:33.402949Z"
    }
   },
   "outputs": [],
   "source": [
    "# вновь разделимь на тренеровочный и тестовый\n",
    "train = data_for_fit.query('sample == 1').drop(['sample'], axis=1)\n",
    "test = data_for_fit.query('sample == 0').drop(['sample'], axis=1)"
   ]
  },
  {
   "cell_type": "code",
   "execution_count": 79,
   "metadata": {
    "execution": {
     "iopub.execute_input": "2021-06-24T15:38:33.766191Z",
     "iopub.status.busy": "2021-06-24T15:38:33.765783Z",
     "iopub.status.idle": "2021-06-24T15:38:33.835150Z",
     "shell.execute_reply": "2021-06-24T15:38:33.833864Z",
     "shell.execute_reply.started": "2021-06-24T15:38:33.766148Z"
    }
   },
   "outputs": [],
   "source": [
    "# подготовим данные к сплину\n",
    "Y = train['default'].values\n",
    "train.drop([\"default\"], axis=1, inplace=True)\n",
    "test.drop([\"default\"], axis=1, inplace=True)\n",
    "X = train.values\n",
    "test = test.values"
   ]
  },
  {
   "cell_type": "code",
   "execution_count": 80,
   "metadata": {
    "execution": {
     "iopub.execute_input": "2021-06-24T15:38:33.837552Z",
     "iopub.status.busy": "2021-06-24T15:38:33.837104Z",
     "iopub.status.idle": "2021-06-24T15:38:33.943968Z",
     "shell.execute_reply": "2021-06-24T15:38:33.942830Z",
     "shell.execute_reply.started": "2021-06-24T15:38:33.837508Z"
    }
   },
   "outputs": [],
   "source": [
    "# сплитим данные\n",
    "X_train, X_test, y_train, y_test = train_test_split(X, Y, test_size=0.20, random_state=1, shuffle=True)"
   ]
  },
  {
   "cell_type": "code",
   "execution_count": 81,
   "metadata": {
    "execution": {
     "iopub.execute_input": "2021-06-24T15:38:33.946325Z",
     "iopub.status.busy": "2021-06-24T15:38:33.945880Z",
     "iopub.status.idle": "2021-06-24T15:43:49.729377Z",
     "shell.execute_reply": "2021-06-24T15:43:49.727979Z",
     "shell.execute_reply.started": "2021-06-24T15:38:33.946265Z"
    }
   },
   "outputs": [
    {
     "name": "stdout",
     "output_type": "stream",
     "text": [
      "Лучшее Penalty: l2\n",
      "Лучшее C: 3.5938136638046276\n"
     ]
    }
   ],
   "source": [
    "# Добавим типы регуляризации\n",
    "penalty = ['l1', 'l2']\n",
    "\n",
    "# Зададим ограничения для параметра регуляризации\n",
    "C = np.logspace(0, 5, 10)\n",
    "\n",
    "# Создадим гиперпараметры\n",
    "hyperparameters = dict(C=C, penalty=penalty)\n",
    "\n",
    "model = LogisticRegression(solver='lbfgs', max_iter=1000)\n",
    "model.fit(X_train, y_train)\n",
    "\n",
    "# Создаем сетку поиска с использованием 5-кратной перекрестной проверки\n",
    "clf = GridSearchCV(model, hyperparameters, cv=5, verbose=0)\n",
    "\n",
    "best_model = clf.fit(X_train, y_train)\n",
    "\n",
    "# Отобразим лучшие гиперпараметры\n",
    "print('Лучшее Penalty:', best_model.best_estimator_.get_params()['penalty'])\n",
    "print('Лучшее C:', best_model.best_estimator_.get_params()['C'])"
   ]
  },
  {
   "cell_type": "markdown",
   "metadata": {},
   "source": [
    "Лучшая регуляризация - l2, с силой регуляризации C = 1.0\n",
    "станартные параметны логистической регрессии останутся без изменений"
   ]
  },
  {
   "cell_type": "code",
   "execution_count": 82,
   "metadata": {
    "execution": {
     "iopub.execute_input": "2021-06-24T15:43:49.739444Z",
     "iopub.status.busy": "2021-06-24T15:43:49.735700Z",
     "iopub.status.idle": "2021-06-24T15:43:51.761831Z",
     "shell.execute_reply": "2021-06-24T15:43:51.760780Z",
     "shell.execute_reply.started": "2021-06-24T15:43:49.739367Z"
    }
   },
   "outputs": [
    {
     "data": {
      "image/png": "[encoded data removed]",
      "text/plain": [
       "<Figure size 432x288 with 1 Axes>"
      ]
     },
     "metadata": {
      "needs_background": "light"
     },
     "output_type": "display_data"
    }
   ],
   "source": [
    "# обозначаем модель\n",
    "model = LogisticRegression(penalty='l2', C=1.0, max_iter=100)\n",
    "\n",
    "# обучаем модель\n",
    "model.fit(X_train, y_train)\n",
    "\n",
    "# делаем предсказание\n",
    "probs = model.predict_proba(X_test)\n",
    "probs = probs[:,1]\n",
    "\n",
    "#рисуем ROC кривую\n",
    "fpr, tpr, threshold = roc_curve(y_test, probs)\n",
    "roc_auc = roc_auc_score(y_test, probs)\n",
    "\n",
    "plt.figure()\n",
    "plt.plot([0, 1], label='Baseline', linestyle='--')\n",
    "plt.plot(fpr, tpr, label = 'Regression')\n",
    "plt.title('Logistic Regression ROC AUC = %0.3f' % roc_auc)\n",
    "plt.ylabel('True Positive Rate')\n",
    "plt.xlabel('False Positive Rate')\n",
    "plt.legend(loc = 'lower right')\n",
    "plt.show()"
   ]
  },
  {
   "cell_type": "code",
   "execution_count": 83,
   "metadata": {
    "execution": {
     "iopub.execute_input": "2021-06-24T15:43:51.763724Z",
     "iopub.status.busy": "2021-06-24T15:43:51.763264Z",
     "iopub.status.idle": "2021-06-24T15:43:51.776736Z",
     "shell.execute_reply": "2021-06-24T15:43:51.775757Z",
     "shell.execute_reply.started": "2021-06-24T15:43:51.763678Z"
    }
   },
   "outputs": [
    {
     "data": {
      "text/html": [
       "<div>\n",
       "<style scoped>\n",
       "    .dataframe tbody tr th:only-of-type {\n",
       "        vertical-align: middle;\n",
       "    }\n",
       "\n",
       "    .dataframe tbody tr th {\n",
       "        vertical-align: top;\n",
       "    }\n",
       "\n",
       "    .dataframe thead th {\n",
       "        text-align: right;\n",
       "    }\n",
       "</style>\n",
       "<table border=\"1\" class=\"dataframe\">\n",
       "  <thead>\n",
       "    <tr style=\"text-align: right;\">\n",
       "      <th></th>\n",
       "      <th>0</th>\n",
       "    </tr>\n",
       "  </thead>\n",
       "  <tbody>\n",
       "    <tr>\n",
       "      <th>age</th>\n",
       "      <td>1.305100</td>\n",
       "    </tr>\n",
       "    <tr>\n",
       "      <th>decline_app_cnt</th>\n",
       "      <td>1.346311</td>\n",
       "    </tr>\n",
       "    <tr>\n",
       "      <th>score_bki</th>\n",
       "      <td>1.309770</td>\n",
       "    </tr>\n",
       "    <tr>\n",
       "      <th>bki_request_cnt</th>\n",
       "      <td>0.979107</td>\n",
       "    </tr>\n",
       "    <tr>\n",
       "      <th>income</th>\n",
       "      <td>0.971132</td>\n",
       "    </tr>\n",
       "    <tr>\n",
       "      <th>...</th>\n",
       "      <td>...</td>\n",
       "    </tr>\n",
       "    <tr>\n",
       "      <th>sex</th>\n",
       "      <td>1.285783</td>\n",
       "    </tr>\n",
       "    <tr>\n",
       "      <th>car</th>\n",
       "      <td>0.976446</td>\n",
       "    </tr>\n",
       "    <tr>\n",
       "      <th>car_type</th>\n",
       "      <td>0.795856</td>\n",
       "    </tr>\n",
       "    <tr>\n",
       "      <th>good_work</th>\n",
       "      <td>0.794233</td>\n",
       "    </tr>\n",
       "    <tr>\n",
       "      <th>foreign_passport</th>\n",
       "      <td>0.824472</td>\n",
       "    </tr>\n",
       "  </tbody>\n",
       "</table>\n",
       "<p>106 rows × 1 columns</p>\n",
       "</div>"
      ],
      "text/plain": [
       "                         0\n",
       "age               1.305100\n",
       "decline_app_cnt   1.346311\n",
       "score_bki         1.309770\n",
       "bki_request_cnt   0.979107\n",
       "income            0.971132\n",
       "...                    ...\n",
       "sex               1.285783\n",
       "car               0.976446\n",
       "car_type          0.795856\n",
       "good_work         0.794233\n",
       "foreign_passport  0.824472\n",
       "\n",
       "[106 rows x 1 columns]"
      ]
     },
     "execution_count": 83,
     "metadata": {},
     "output_type": "execute_result"
    }
   ],
   "source": [
    "# коэффициенты нашей модели\n",
    "coef = np.exp(model.coef_[0]) \n",
    "\n",
    "# представим их в виде датафрейма\n",
    "pd.DataFrame(coef, train.columns)"
   ]
  },
  {
   "cell_type": "code",
   "execution_count": null,
   "metadata": {},
   "outputs": [],
   "source": []
  }
 ],
 "metadata": {
  "kernelspec": {
   "display_name": "Python 3",
   "language": "python",
   "name": "python3"
  },
  "language_info": {
   "codemirror_mode": {
    "name": "ipython",
    "version": 3
   },
   "file_extension": ".py",
   "mimetype": "text/x-python",
   "name": "python",
   "nbconvert_exporter": "python",
   "pygments_lexer": "ipython3",
   "version": "3.8.3"
  }
 },
 "nbformat": 4,
 "nbformat_minor": 4
}
