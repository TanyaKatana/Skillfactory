{
 "cells": [
  {
   "cell_type": "code",
   "execution_count": 2,
   "metadata": {},
   "outputs": [],
   "source": [
    "import pandas as pd\n",
    "import numpy as np\n",
    "import datetime as dt\n",
    "import re\n",
    "import seaborn as sns"
   ]
  },
  {
   "cell_type": "code",
   "execution_count": 3,
   "metadata": {},
   "outputs": [],
   "source": [
    "df = pd.read_csv('C:/Users/Tanya/main_task.xls')"
   ]
  },
  {
   "cell_type": "code",
   "execution_count": 4,
   "metadata": {},
   "outputs": [],
   "source": [
    "def clear_row(row):\n",
    "    \"\"\"функция для чистки строки от лишних знаков\"\"\"\n",
    "    if pd.isna(row): return ''\n",
    "    row = row.strip('[]')\n",
    "    row = row.replace(\"\\'\", \"\")\n",
    "    row = row.split(', ')\n",
    "    return row\n",
    "\n",
    "\n",
    "def replace_price_range(value):\n",
    "    \"\"\"функция для избавления от строковых величин в Price_range\"\"\"\n",
    "    if value == '$':\n",
    "        return 1\n",
    "    elif value == '$$ - $$$':\n",
    "        return 2\n",
    "    elif value == '$$$$':\n",
    "        return 3\n",
    "    else:\n",
    "        return 0\n",
    "    \n",
    "def norm_timedelta(x):\n",
    "    \"\"\"функция для нормализации таймдельты\"\"\"\n",
    "    x_min = df.timedelta.min()\n",
    "    x_max = df.timedelta.max()\n",
    "    y = (x-x_min)/(x_max-x_min)\n",
    "    return y    \n",
    "    "
   ]
  },
  {
   "cell_type": "code",
   "execution_count": 5,
   "metadata": {},
   "outputs": [
    {
     "data": {
      "text/plain": [
       "<matplotlib.axes._subplots.AxesSubplot at 0x16454773850>"
      ]
     },
     "execution_count": 5,
     "metadata": {},
     "output_type": "execute_result"
    },
    {
     "data": {
      "image/png": "[encoded data removed]",
      "text/plain": [
       "<Figure size 432x288 with 2 Axes>"
      ]
     },
     "metadata": {
      "needs_background": "light"
     },
     "output_type": "display_data"
    }
   ],
   "source": [
    "#оценили корреляцию. Корреляции нет\n",
    "sns.heatmap(df.corr(),annot = True)"
   ]
  },
  {
   "cell_type": "code",
   "execution_count": 6,
   "metadata": {},
   "outputs": [],
   "source": [
    "df['Cuisine Style'] = df['Cuisine Style'].apply(clear_row)\n",
    "#df = df.explode('Cuisine Style')\n",
    "#df['Cuisine Style'].apply(len)            #для задания"
   ]
  },
  {
   "cell_type": "code",
   "execution_count": 7,
   "metadata": {},
   "outputs": [],
   "source": [
    "pattern = re.compile('\\d+\\/\\d+\\/\\d+')\n",
    "\n",
    "df['date_rev'] = df['Reviews'].apply(pattern.findall)\n",
    "df['date_rev'] = df['date_rev'].apply(lambda x: [x[-2], x[-1]] if len(x)>=3 else x)\n",
    "\n",
    "df['date_rev'] = df['Reviews'].apply(pattern.findall)\n",
    "df['date_rev'] = df['date_rev'].apply(lambda x: [x[-2], x[-1]] if len(x)>=3 else x)\n",
    "\n",
    "df['rev_1'] = df['date_rev'].apply(lambda x: x[0] if len(x)>=1 else None)\n",
    "df['rev_2'] = df['date_rev'].apply(lambda x: x[1] if len(x)==2 else None)\n",
    "\n",
    "df['rev_1'] = pd.to_datetime(df['rev_1'])\n",
    "df['rev_2'] = pd.to_datetime(df['rev_2'])\n",
    "\n",
    "#print(df[['rev_1','rev_2']].max().max())       #для задания\n",
    "\n",
    "#print((df['rev_1']-df['rev_2']).max())     #для задания"
   ]
  },
  {
   "cell_type": "code",
   "execution_count": 8,
   "metadata": {},
   "outputs": [],
   "source": [
    "# избавились от строковых данных\n",
    "df['Price Range'] = df['Price Range'].apply(replace_price_range)"
   ]
  },
  {
   "cell_type": "code",
   "execution_count": 11,
   "metadata": {},
   "outputs": [],
   "source": [
    "#сделали дамми переменные для кухонь\n",
    "cuisine_dummies = pd.get_dummies(df['Cuisine Style'].apply(pd.Series).stack()).sum(level=0)\n",
    "cuisine_dummies.drop(cuisine_dummies.columns[[0]], axis=1, inplace = True)\n",
    "# дамми для городов\n",
    "city_dummies = pd.get_dummies(df['City'], prefix='City')\n",
    "\n",
    "#приклеили дамми к общему дф\n",
    "df = pd.concat([df,cuisine_dummies,city_dummies], axis=1)\n"
   ]
  },
  {
   "cell_type": "code",
   "execution_count": 12,
   "metadata": {},
   "outputs": [],
   "source": [
    "#дельту дт в инт\n",
    "df['timedelta'] = abs(df['rev_1']-df['rev_2']).astype('timedelta64[D]')"
   ]
  },
  {
   "cell_type": "code",
   "execution_count": 13,
   "metadata": {},
   "outputs": [],
   "source": [
    "#заменили пустые значения на средние\n",
    "df['Number of Reviews'].fillna(df['Number of Reviews'].mean(), inplace=True)"
   ]
  },
  {
   "cell_type": "code",
   "execution_count": 14,
   "metadata": {},
   "outputs": [
    {
     "name": "stderr",
     "output_type": "stream",
     "text": [
      "<ipython-input-14-0dcf7f1ad887>:6: SettingWithCopyWarning: \n",
      "A value is trying to be set on a copy of a slice from a DataFrame\n",
      "\n",
      "See the caveats in the documentation: https://pandas.pydata.org/pandas-docs/stable/user_guide/indexing.html#returning-a-view-versus-a-copy\n",
      "  df.timedelta[((df.timedelta < (Q1 - 1.5 * IQR)) | (df.timedelta > (Q3 + 1.5 * IQR)))] = np.nan\n"
     ]
    }
   ],
   "source": [
    "#находим выбросы и меняем их на среднее\n",
    "Q1 = df.timedelta.quantile(0.25)\n",
    "Q3 = df.timedelta.quantile(0.75)\n",
    "IQR = Q3 - Q1\n",
    "\n",
    "df.timedelta[((df.timedelta < (Q1 - 1.5 * IQR)) | (df.timedelta > (Q3 + 1.5 * IQR)))] = np.nan\n",
    "df.timedelta = df.timedelta.fillna(df.timedelta.mean())"
   ]
  },
  {
   "cell_type": "code",
   "execution_count": null,
   "metadata": {},
   "outputs": [],
   "source": [
    "df.timedelta = df.timedelta.apply(norm_timedelta)"
   ]
  },
  {
   "cell_type": "code",
   "execution_count": null,
   "metadata": {},
   "outputs": [],
   "source": [
    "# Разбиваем датафрейм на части, необходимые для обучения и тестирования модели  \n",
    "# Х - данные с информацией о ресторанах, у - целевая переменная (рейтинги ресторанов)  \n",
    "X = df.drop(['Rating','date_rev','rev_1','rev_2','Restaurant_id','City','Cuisine Style','Reviews','URL_TA','ID_TA'], axis = 1)\n",
    "y = df['Rating']\n",
    "\n",
    "# Загружаем специальный инструмент для разбивки:  \n",
    "from sklearn.model_selection import train_test_split  \n",
    "      \n",
    "# Наборы данных с меткой \"train\" будут использоваться для обучения модели, \"test\" - для тестирования.  \n",
    "# Для тестирования мы будем использовать 25% от исходного датасета.  \n",
    "X_train, X_test, y_train, y_test = train_test_split(X, y, test_size=0.25)"
   ]
  },
  {
   "cell_type": "code",
   "execution_count": null,
   "metadata": {},
   "outputs": [],
   "source": [
    "from sklearn.ensemble import RandomForestRegressor # инструмент для создания и обучения модели  \n",
    "from sklearn import metrics # инструменты для оценки точности модел\\\n",
    "\n",
    "# Создаём модель  \n",
    "regr = RandomForestRegressor(n_estimators=100) \n",
    "\n",
    "# Обучаем модель на тестовом наборе данных  \n",
    "regr.fit(X_train, y_train)  \n",
    "\n",
    "# Используем обученную модель для предсказания рейтинга ресторанов в тестовой выборке.  \n",
    "# Предсказанные значения записываем в переменную y_pred  \n",
    "y_pred = regr.predict(X_test)  \n",
    "      "
   ]
  },
  {
   "cell_type": "code",
   "execution_count": null,
   "metadata": {},
   "outputs": [],
   "source": [
    "print('MAE:', metrics.mean_absolute_error(y_test, y_pred))  "
   ]
  }
 ],
 "metadata": {
  "kernelspec": {
   "display_name": "Python 3",
   "language": "python",
   "name": "python3"
  },
  "language_info": {
   "codemirror_mode": {
    "name": "ipython",
    "version": 3
   },
   "file_extension": ".py",
   "mimetype": "text/x-python",
   "name": "python",
   "nbconvert_exporter": "python",
   "pygments_lexer": "ipython3",
   "version": "3.8.3"
  }
 },
 "nbformat": 4,
 "nbformat_minor": 4
}
