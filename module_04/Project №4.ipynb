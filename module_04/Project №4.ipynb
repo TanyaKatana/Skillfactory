{
 "cells": [
  {
   "cell_type": "markdown",
   "metadata": {},
   "source": [
    "## 4.2\n"
   ]
  },
  {
   "cell_type": "markdown",
   "metadata": {},
   "source": [
    "#### Вопрос 1. Таблица рейсов содержит всю информацию о прошлых, текущих и запланированных рейсах. Сколько всего статусов для рейсов определено в таблице?"
   ]
  },
  {
   "cell_type": "code",
   "execution_count": 1,
   "metadata": {},
   "outputs": [
    {
     "ename": "IndentationError",
     "evalue": "unexpected indent (<ipython-input-1-0c9a6e4ffb4d>, line 2)",
     "output_type": "error",
     "traceback": [
      "\u001b[1;36m  File \u001b[1;32m\"<ipython-input-1-0c9a6e4ffb4d>\"\u001b[1;36m, line \u001b[1;32m2\u001b[0m\n\u001b[1;33m    count(distinct st.status)\u001b[0m\n\u001b[1;37m    ^\u001b[0m\n\u001b[1;31mIndentationError\u001b[0m\u001b[1;31m:\u001b[0m unexpected indent\n"
     ]
    }
   ],
   "source": [
    "select \n",
    "    count(distinct f.status)\n",
    "from \n",
    "    dst_project.flights f  "
   ]
  },
  {
   "cell_type": "markdown",
   "metadata": {},
   "source": [
    "#### Вопрос 2. Какое количество самолетов находятся в воздухе на момент среза в базе (статус рейса «самолёт уже вылетел и находится в воздухе»)."
   ]
  },
  {
   "cell_type": "code",
   "execution_count": 2,
   "metadata": {},
   "outputs": [
    {
     "ename": "IndentationError",
     "evalue": "unexpected indent (<ipython-input-2-7d599c33d702>, line 2)",
     "output_type": "error",
     "traceback": [
      "\u001b[1;36m  File \u001b[1;32m\"<ipython-input-2-7d599c33d702>\"\u001b[1;36m, line \u001b[1;32m2\u001b[0m\n\u001b[1;33m    count(st.status)\u001b[0m\n\u001b[1;37m    ^\u001b[0m\n\u001b[1;31mIndentationError\u001b[0m\u001b[1;31m:\u001b[0m unexpected indent\n"
     ]
    }
   ],
   "source": [
    "select \n",
    "    count(st.status)\n",
    "from \n",
    "    dst_project.flights st\n",
    "where \n",
    "    st.status = 'Departed'"
   ]
  },
  {
   "cell_type": "markdown",
   "metadata": {},
   "source": [
    "#### Вопрос 3. Места определяют схему салона каждой модели. Сколько мест имеет самолет модели  (Boeing 777-300)?"
   ]
  },
  {
   "cell_type": "code",
   "execution_count": 2,
   "metadata": {
    "collapsed": true
   },
   "outputs": [
    {
     "ename": "IndentationError",
     "evalue": "unexpected indent (<ipython-input-2-ce992dd64092>, line 2)",
     "output_type": "error",
     "traceback": [
      "\u001b[1;36m  File \u001b[1;32m\"<ipython-input-2-ce992dd64092>\"\u001b[1;36m, line \u001b[1;32m2\u001b[0m\n\u001b[1;33m    count(se.seat_no)\u001b[0m\n\u001b[1;37m    ^\u001b[0m\n\u001b[1;31mIndentationError\u001b[0m\u001b[1;31m:\u001b[0m unexpected indent\n"
     ]
    }
   ],
   "source": [
    "select \n",
    "    count(se.seat_no)\n",
    "from \n",
    "    dst_project.seats se \n",
    "     join dst_project.aircrafts ac \n",
    "        on se.aircraft_code = ac.aircraft_code\n",
    "where \n",
    "    ac.model = 'Boeing 777-300'"
   ]
  },
  {
   "cell_type": "markdown",
   "metadata": {},
   "source": [
    "#### Вопрос 4. Сколько состоявшихся (фактических) рейсов было совершено между 1 апреля 2017 года и 1 сентября 2017 года?"
   ]
  },
  {
   "cell_type": "code",
   "execution_count": 4,
   "metadata": {},
   "outputs": [
    {
     "ename": "IndentationError",
     "evalue": "unexpected indent (<ipython-input-4-b534cd71bf06>, line 2)",
     "output_type": "error",
     "traceback": [
      "\u001b[1;36m  File \u001b[1;32m\"<ipython-input-4-b534cd71bf06>\"\u001b[1;36m, line \u001b[1;32m2\u001b[0m\n\u001b[1;33m    count(f.status)\u001b[0m\n\u001b[1;37m    ^\u001b[0m\n\u001b[1;31mIndentationError\u001b[0m\u001b[1;31m:\u001b[0m unexpected indent\n"
     ]
    }
   ],
   "source": [
    "select \n",
    "    count(f.status)\n",
    "from \n",
    "    dst_project.flights f\n",
    "where \n",
    "    f.status != 'Cancelled'\n",
    "    and f.scheduled_arrival between 'August 1,2017' and 'September 1,2017';"
   ]
  },
  {
   "cell_type": "markdown",
   "metadata": {},
   "source": [
    "## 4.3"
   ]
  },
  {
   "cell_type": "markdown",
   "metadata": {},
   "source": [
    "#### Вопрос 1. Сколько всего рейсов было отменено по данным базы?"
   ]
  },
  {
   "cell_type": "code",
   "execution_count": 5,
   "metadata": {},
   "outputs": [
    {
     "ename": "IndentationError",
     "evalue": "unexpected indent (<ipython-input-5-af3148730231>, line 2)",
     "output_type": "error",
     "traceback": [
      "\u001b[1;36m  File \u001b[1;32m\"<ipython-input-5-af3148730231>\"\u001b[1;36m, line \u001b[1;32m2\u001b[0m\n\u001b[1;33m    count(f.status)\u001b[0m\n\u001b[1;37m    ^\u001b[0m\n\u001b[1;31mIndentationError\u001b[0m\u001b[1;31m:\u001b[0m unexpected indent\n"
     ]
    }
   ],
   "source": [
    "SELECT \n",
    "    count(f.status)\n",
    "FROM  \n",
    "    dst_project.flights f\n",
    "WHERE  \n",
    "    f.status = 'Cancelled'\n"
   ]
  },
  {
   "cell_type": "markdown",
   "metadata": {},
   "source": [
    "####  Вопрос 2. Сколько самолетов моделей типа Boeing, Sukhoi Superjet, Airbus находится в базе авиаперевозок?"
   ]
  },
  {
   "cell_type": "code",
   "execution_count": 6,
   "metadata": {},
   "outputs": [
    {
     "ename": "IndentationError",
     "evalue": "unexpected indent (<ipython-input-6-c15ab8a5ca6a>, line 2)",
     "output_type": "error",
     "traceback": [
      "\u001b[1;36m  File \u001b[1;32m\"<ipython-input-6-c15ab8a5ca6a>\"\u001b[1;36m, line \u001b[1;32m2\u001b[0m\n\u001b[1;33m    count(model)\u001b[0m\n\u001b[1;37m    ^\u001b[0m\n\u001b[1;31mIndentationError\u001b[0m\u001b[1;31m:\u001b[0m unexpected indent\n"
     ]
    }
   ],
   "source": [
    "SELECT \n",
    "    count(model)\n",
    "FROM  \n",
    "    dst_project.aircrafts\n",
    "WHERE\n",
    "    model like '%Boeing%'   \n",
    "    or model like '%Sukhoi Superjet%'\n",
    "    or model like '%Airbus%';\n"
   ]
  },
  {
   "cell_type": "markdown",
   "metadata": {},
   "source": [
    "#### Вопрос 3. В какой части (частях) света находится больше аэропортов?"
   ]
  },
  {
   "cell_type": "code",
   "execution_count": 2,
   "metadata": {
    "scrolled": false
   },
   "outputs": [
    {
     "ename": "IndentationError",
     "evalue": "unexpected indent (<ipython-input-2-4d09cb4c10ee>, line 2)",
     "output_type": "error",
     "traceback": [
      "\u001b[1;36m  File \u001b[1;32m\"<ipython-input-2-4d09cb4c10ee>\"\u001b[1;36m, line \u001b[1;32m2\u001b[0m\n\u001b[1;33m    count(timezone)\u001b[0m\n\u001b[1;37m    ^\u001b[0m\n\u001b[1;31mIndentationError\u001b[0m\u001b[1;31m:\u001b[0m unexpected indent\n"
     ]
    }
   ],
   "source": [
    "SELECT \n",
    "    count(timezone)\n",
    "FROM  \n",
    "    dst_project.airports\n",
    "WHERE \n",
    "    timezone like '%Europe, Asia%';"
   ]
  },
  {
   "cell_type": "markdown",
   "metadata": {},
   "source": [
    "#### Вопрос 4. У какого рейса была самая большая задержка прибытия за все время сбора данных? Введите id рейса (flight_id)."
   ]
  },
  {
   "cell_type": "code",
   "execution_count": 4,
   "metadata": {},
   "outputs": [
    {
     "ename": "IndentationError",
     "evalue": "unexpected indent (<ipython-input-4-57ad71d41ef5>, line 2)",
     "output_type": "error",
     "traceback": [
      "\u001b[1;36m  File \u001b[1;32m\"<ipython-input-4-57ad71d41ef5>\"\u001b[1;36m, line \u001b[1;32m2\u001b[0m\n\u001b[1;33m    f.flight_id,\u001b[0m\n\u001b[1;37m    ^\u001b[0m\n\u001b[1;31mIndentationError\u001b[0m\u001b[1;31m:\u001b[0m unexpected indent\n"
     ]
    }
   ],
   "source": [
    "SELECT \n",
    "    f.flight_id,\n",
    "    (f.actual_arrival - f.scheduled_arrival) as late \n",
    "FROM\n",
    "    dst_project.flights f\n",
    "WHERE \n",
    "    (f.actual_arrival - f.scheduled_arrival) is not null \n",
    "ORDER BY 2 desc   "
   ]
  },
  {
   "cell_type": "markdown",
   "metadata": {},
   "source": [
    "### Задание 4.4"
   ]
  },
  {
   "cell_type": "markdown",
   "metadata": {},
   "source": [
    "#### Вопрос 1. Когда был запланирован самый первый вылет, сохраненный в базе данных?"
   ]
  },
  {
   "cell_type": "code",
   "execution_count": 5,
   "metadata": {},
   "outputs": [
    {
     "ename": "IndentationError",
     "evalue": "unexpected indent (<ipython-input-5-e76f98d5fe99>, line 2)",
     "output_type": "error",
     "traceback": [
      "\u001b[1;36m  File \u001b[1;32m\"<ipython-input-5-e76f98d5fe99>\"\u001b[1;36m, line \u001b[1;32m2\u001b[0m\n\u001b[1;33m    f.scheduled_departure\u001b[0m\n\u001b[1;37m    ^\u001b[0m\n\u001b[1;31mIndentationError\u001b[0m\u001b[1;31m:\u001b[0m unexpected indent\n"
     ]
    }
   ],
   "source": [
    "SELECT \n",
    "    f.scheduled_departure\n",
    "FROM  \n",
    "    dst_project.flights f\n",
    "ORDER BY 1 asc\n",
    "LIMIT 1 "
   ]
  },
  {
   "cell_type": "markdown",
   "metadata": {},
   "source": [
    "#### Вопрос 2. Сколько минут составляет запланированное время полета в самом длительном рейсе?"
   ]
  },
  {
   "cell_type": "code",
   "execution_count": 6,
   "metadata": {},
   "outputs": [
    {
     "ename": "IndentationError",
     "evalue": "unexpected indent (<ipython-input-6-4e8bdbad7fe7>, line 2)",
     "output_type": "error",
     "traceback": [
      "\u001b[1;36m  File \u001b[1;32m\"<ipython-input-6-4e8bdbad7fe7>\"\u001b[1;36m, line \u001b[1;32m2\u001b[0m\n\u001b[1;33m    f.scheduled_arrival-f.scheduled_departure as in_air\u001b[0m\n\u001b[1;37m    ^\u001b[0m\n\u001b[1;31mIndentationError\u001b[0m\u001b[1;31m:\u001b[0m unexpected indent\n"
     ]
    }
   ],
   "source": [
    "SELECT \n",
    "    f.scheduled_arrival-f.scheduled_departure as in_air \n",
    "FROM \n",
    "    dst_project.flights f\n",
    "order by 1 desc\n",
    "limit 1 \n",
    "    "
   ]
  },
  {
   "cell_type": "markdown",
   "metadata": {},
   "source": [
    "#### Вопрос 3. Между какими аэропортами пролегает самый длительный по времени запланированный рейс?"
   ]
  },
  {
   "cell_type": "code",
   "execution_count": 12,
   "metadata": {},
   "outputs": [
    {
     "ename": "IndentationError",
     "evalue": "unexpected indent (<ipython-input-12-904d5ddeba29>, line 2)",
     "output_type": "error",
     "traceback": [
      "\u001b[1;36m  File \u001b[1;32m\"<ipython-input-12-904d5ddeba29>\"\u001b[1;36m, line \u001b[1;32m2\u001b[0m\n\u001b[1;33m    date_part('hour', f.scheduled_arrival-f.scheduled_departure) * 60\u001b[0m\n\u001b[1;37m    ^\u001b[0m\n\u001b[1;31mIndentationError\u001b[0m\u001b[1;31m:\u001b[0m unexpected indent\n"
     ]
    }
   ],
   "source": [
    "SELECT\n",
    "    date_part('hour', f.scheduled_arrival-f.scheduled_departure) * 60\n",
    "    + date_part('minute', f.scheduled_arrival-f.scheduled_departure) AS in_air \n",
    "FROM \n",
    "    dst_project.flights f\n",
    "order by 1 desc\n",
    "limit 1;\n",
    "\n"
   ]
  },
  {
   "cell_type": "markdown",
   "metadata": {},
   "source": [
    "#### Вопрос 4. Сколько составляет средняя дальность полета среди всех самолетов в минутах? Секунды округляются в меньшую сторону (отбрасываются до минут)."
   ]
  },
  {
   "cell_type": "code",
   "execution_count": 11,
   "metadata": {},
   "outputs": [
    {
     "ename": "IndentationError",
     "evalue": "unexpected indent (<ipython-input-11-29a934437333>, line 2)",
     "output_type": "error",
     "traceback": [
      "\u001b[1;36m  File \u001b[1;32m\"<ipython-input-11-29a934437333>\"\u001b[1;36m, line \u001b[1;32m2\u001b[0m\n\u001b[1;33m    avg(date_part('hour', f.scheduled_arrival-f.scheduled_departure) * 60\u001b[0m\n\u001b[1;37m    ^\u001b[0m\n\u001b[1;31mIndentationError\u001b[0m\u001b[1;31m:\u001b[0m unexpected indent\n"
     ]
    }
   ],
   "source": [
    "SELECT\n",
    "    avg(date_part('hour', f.scheduled_arrival-f.scheduled_departure) * 60\n",
    "    + date_part('minute', f.scheduled_arrival-f.scheduled_departure)) AS avg_in_air\n",
    "FROM \n",
    "    dst_project.flights f\n",
    "WHERE \n",
    "    f.scheduled_departure is not null \n",
    "order by 1 desc\n",
    "limit 1;\n"
   ]
  },
  {
   "cell_type": "markdown",
   "metadata": {},
   "source": [
    "### Задание 4.5"
   ]
  },
  {
   "cell_type": "markdown",
   "metadata": {},
   "source": [
    "#### Вопрос 1. Мест какого класса у SU9 больше всего?"
   ]
  },
  {
   "cell_type": "code",
   "execution_count": 13,
   "metadata": {
    "scrolled": true
   },
   "outputs": [
    {
     "ename": "IndentationError",
     "evalue": "unexpected indent (<ipython-input-13-c32477b1f968>, line 2)",
     "output_type": "error",
     "traceback": [
      "\u001b[1;36m  File \u001b[1;32m\"<ipython-input-13-c32477b1f968>\"\u001b[1;36m, line \u001b[1;32m2\u001b[0m\n\u001b[1;33m    s.fare_conditions,\u001b[0m\n\u001b[1;37m    ^\u001b[0m\n\u001b[1;31mIndentationError\u001b[0m\u001b[1;31m:\u001b[0m unexpected indent\n"
     ]
    }
   ],
   "source": [
    "SELECT\n",
    "    s.fare_conditions,\n",
    "    count(fare_conditions)\n",
    "FROM \n",
    "    dst_project.seats s\n",
    "GROUP BY 1\n",
    "ORDER BY 2 desc \n",
    "LIMIT 1;"
   ]
  },
  {
   "cell_type": "markdown",
   "metadata": {},
   "source": [
    "#### Вопрос 2. Какую самую минимальную стоимость составило бронирование за всю историю?"
   ]
  },
  {
   "cell_type": "code",
   "execution_count": 14,
   "metadata": {},
   "outputs": [
    {
     "ename": "IndentationError",
     "evalue": "unexpected indent (<ipython-input-14-416785294ada>, line 2)",
     "output_type": "error",
     "traceback": [
      "\u001b[1;36m  File \u001b[1;32m\"<ipython-input-14-416785294ada>\"\u001b[1;36m, line \u001b[1;32m2\u001b[0m\n\u001b[1;33m    min(total_amount)\u001b[0m\n\u001b[1;37m    ^\u001b[0m\n\u001b[1;31mIndentationError\u001b[0m\u001b[1;31m:\u001b[0m unexpected indent\n"
     ]
    }
   ],
   "source": [
    "SELECT\n",
    "    min(total_amount)\n",
    "FROM \n",
    "    dst_project.bookings;"
   ]
  },
  {
   "cell_type": "markdown",
   "metadata": {},
   "source": [
    "#### Вопрос 3. Какой номер места был у пассажира с id = 4313 788533?"
   ]
  },
  {
   "cell_type": "code",
   "execution_count": 16,
   "metadata": {},
   "outputs": [
    {
     "ename": "IndentationError",
     "evalue": "unexpected indent (<ipython-input-16-2aa84c1e6a71>, line 2)",
     "output_type": "error",
     "traceback": [
      "\u001b[1;36m  File \u001b[1;32m\"<ipython-input-16-2aa84c1e6a71>\"\u001b[1;36m, line \u001b[1;32m2\u001b[0m\n\u001b[1;33m    bp.seat_no\u001b[0m\n\u001b[1;37m    ^\u001b[0m\n\u001b[1;31mIndentationError\u001b[0m\u001b[1;31m:\u001b[0m unexpected indent\n"
     ]
    }
   ],
   "source": [
    "SELECT\n",
    "    bp.seat_no \n",
    "FROM \n",
    "    dst_project.tickets t\n",
    "    join dst_project.boarding_passes bp ON t.ticket_no = bp.ticket_no\n",
    "WHERE \n",
    "    t.passenger_id = '4313 788533'"
   ]
  },
  {
   "cell_type": "markdown",
   "metadata": {},
   "source": [
    "### Предварительный анализ"
   ]
  },
  {
   "cell_type": "markdown",
   "metadata": {},
   "source": [
    "#### Вопрос 1. Анапа — курортный город на юге России. Сколько рейсов прибыло в Анапу за 2017 год?"
   ]
  },
  {
   "cell_type": "code",
   "execution_count": 21,
   "metadata": {},
   "outputs": [
    {
     "ename": "IndentationError",
     "evalue": "unexpected indent (<ipython-input-21-d3ba66171738>, line 2)",
     "output_type": "error",
     "traceback": [
      "\u001b[1;36m  File \u001b[1;32m\"<ipython-input-21-d3ba66171738>\"\u001b[1;36m, line \u001b[1;32m2\u001b[0m\n\u001b[1;33m    count(actual_arrival)\u001b[0m\n\u001b[1;37m    ^\u001b[0m\n\u001b[1;31mIndentationError\u001b[0m\u001b[1;31m:\u001b[0m unexpected indent\n"
     ]
    }
   ],
   "source": [
    "select\n",
    "    count(actual_arrival)\n",
    "from \n",
    "    dst_project.flights\n",
    "where\n",
    "    arrival_airport = 'AAQ' and actual_arrival::text like '%2017%'"
   ]
  },
  {
   "cell_type": "markdown",
   "metadata": {},
   "source": [
    "#### Вопрос 2. Сколько рейсов из Анапы вылетело зимой 2017 года?"
   ]
  },
  {
   "cell_type": "code",
   "execution_count": 2,
   "metadata": {},
   "outputs": [
    {
     "ename": "IndentationError",
     "evalue": "unexpected indent (<ipython-input-2-4c1410fd72e5>, line 2)",
     "output_type": "error",
     "traceback": [
      "\u001b[1;36m  File \u001b[1;32m\"<ipython-input-2-4c1410fd72e5>\"\u001b[1;36m, line \u001b[1;32m2\u001b[0m\n\u001b[1;33m    count(departure_airport)\u001b[0m\n\u001b[1;37m    ^\u001b[0m\n\u001b[1;31mIndentationError\u001b[0m\u001b[1;31m:\u001b[0m unexpected indent\n"
     ]
    }
   ],
   "source": [
    "select\n",
    "    count(departure_airport)\n",
    "from \n",
    "    dst_project.flights\n",
    "where\n",
    "   (departure_airport = 'AAQ')\n",
    "   AND (date_part('year', actual_departure) = 2017)\n",
    "   AND (date_part('month', actual_departure) in (12, 1, 2));"
   ]
  },
  {
   "cell_type": "markdown",
   "metadata": {},
   "source": [
    "#### Вопрос 3. Посчитайте количество отмененных рейсов из Анапы за все время."
   ]
  },
  {
   "cell_type": "code",
   "execution_count": 20,
   "metadata": {},
   "outputs": [
    {
     "ename": "IndentationError",
     "evalue": "unexpected indent (<ipython-input-20-e7b846d5c565>, line 2)",
     "output_type": "error",
     "traceback": [
      "\u001b[1;36m  File \u001b[1;32m\"<ipython-input-20-e7b846d5c565>\"\u001b[1;36m, line \u001b[1;32m2\u001b[0m\n\u001b[1;33m    count(f.status)\u001b[0m\n\u001b[1;37m    ^\u001b[0m\n\u001b[1;31mIndentationError\u001b[0m\u001b[1;31m:\u001b[0m unexpected indent\n"
     ]
    }
   ],
   "source": [
    "select\n",
    "    count(f.status)\n",
    "from \n",
    "    dst_project.flights f\n",
    "where\n",
    "    departure_airport = 'AAQ'\n",
    "    and f.status = 'Cancelled'"
   ]
  },
  {
   "cell_type": "markdown",
   "metadata": {},
   "source": [
    "#### Вопрос 4. Сколько рейсов из Анапы не летают в Москву?"
   ]
  },
  {
   "cell_type": "code",
   "execution_count": 3,
   "metadata": {
    "scrolled": true
   },
   "outputs": [
    {
     "ename": "IndentationError",
     "evalue": "unexpected indent (<ipython-input-3-cba3cdac8a0c>, line 2)",
     "output_type": "error",
     "traceback": [
      "\u001b[1;36m  File \u001b[1;32m\"<ipython-input-3-cba3cdac8a0c>\"\u001b[1;36m, line \u001b[1;32m2\u001b[0m\n\u001b[1;33m    count(distinct f.flight_id)\u001b[0m\n\u001b[1;37m    ^\u001b[0m\n\u001b[1;31mIndentationError\u001b[0m\u001b[1;31m:\u001b[0m unexpected indent\n"
     ]
    }
   ],
   "source": [
    "select\n",
    "    count(distinct f.flight_id)\n",
    "from \n",
    "    dst_project.flights f\n",
    "where\n",
    "    arrival_airport not in ('DME', 'SVO', 'VKO')\n",
    "    and departure_airport = 'AAQ'"
   ]
  },
  {
   "cell_type": "markdown",
   "metadata": {},
   "source": [
    "#### Вопрос 5. Какая модель самолета летящего на рейсах из Анапы имеет больше всего мест?"
   ]
  },
  {
   "cell_type": "code",
   "execution_count": 4,
   "metadata": {},
   "outputs": [
    {
     "ename": "IndentationError",
     "evalue": "unexpected indent (<ipython-input-4-faa06353a232>, line 2)",
     "output_type": "error",
     "traceback": [
      "\u001b[1;36m  File \u001b[1;32m\"<ipython-input-4-faa06353a232>\"\u001b[1;36m, line \u001b[1;32m2\u001b[0m\n\u001b[1;33m    ac.model,\u001b[0m\n\u001b[1;37m    ^\u001b[0m\n\u001b[1;31mIndentationError\u001b[0m\u001b[1;31m:\u001b[0m unexpected indent\n"
     ]
    }
   ],
   "source": [
    "select\n",
    "    ac.model, \n",
    "    count(distinct s.seat_no)\n",
    "from \n",
    "    dst_project.aircrafts ac \n",
    "    join dst_project.seats s on ac.aircraft_code = s.aircraft_code\n",
    "    join dst_project.flights f on ac.aircraft_code = f.aircraft_code\n",
    "where \n",
    "    departure_airport = 'AAQ'\n",
    "group by 1 \n",
    "    "
   ]
  },
  {
   "cell_type": "markdown",
   "metadata": {},
   "source": [
    "# Проект №4"
   ]
  },
  {
   "cell_type": "code",
   "execution_count": 6,
   "metadata": {},
   "outputs": [
    {
     "ename": "IndentationError",
     "evalue": "unexpected indent (<ipython-input-6-4c94c644825c>, line 2)",
     "output_type": "error",
     "traceback": [
      "\u001b[1;36m  File \u001b[1;32m\"<ipython-input-6-4c94c644825c>\"\u001b[1;36m, line \u001b[1;32m2\u001b[0m\n\u001b[1;33m    f.arrival_airport AS Код_аэропорта_прибытия,\u001b[0m\n\u001b[1;37m    ^\u001b[0m\n\u001b[1;31mIndentationError\u001b[0m\u001b[1;31m:\u001b[0m unexpected indent\n"
     ]
    }
   ],
   "source": [
    "SELECT\n",
    "    f.arrival_airport AS Код_аэропорта_прибытия,\n",
    "    ai.airport_name AS Название_аэропорта,\n",
    "    f.flight_id AS ID_рейса,\n",
    "    f.scheduled_departure AS Дата_отправления_рейса,\n",
    "    ac.model AS Модель_самолёта,\n",
    "    count(tf.ticket_no) AS количество_билетов,\n",
    "    avg(tf.amount) AS средняя_цена_билета,\n",
    "    avg(tf.amount)*count(tf.ticket_no) AS средняя_выручка_рейса,\n",
    "    CASE WHEN f.arrival_airport='EGO' THEN (date_part('hour', f.scheduled_arrival-f.scheduled_departure) * 60\n",
    "    + date_part('minute', f.scheduled_arrival-f.scheduled_departure))*28.3*41.8\n",
    "        WHEN f.arrival_airport='NOZ' THEN (date_part('hour', f.scheduled_arrival-f.scheduled_departure) * 60\n",
    "    + date_part('minute', f.scheduled_arrival-f.scheduled_departure))*43.3*41.8\n",
    "        ELSE (date_part('hour', f.scheduled_arrival-f.scheduled_departure) * 60\n",
    "    + date_part('minute', f.scheduled_arrival-f.scheduled_departure))*43.3*41.8\n",
    "        END AS Цена_топлива,\n",
    "    (avg(tf.amount)*count(tf.ticket_no)) - (date_part('hour', f.scheduled_arrival-f.scheduled_departure) * 60\n",
    "    + date_part('minute', f.scheduled_arrival-f.scheduled_departure))*43.3*41.8 AS прибыль_с_рейса\n",
    "FROM \n",
    "    dst_project.flights f\n",
    "    LEFT JOIN dst_project.ticket_flights tf ON f.flight_id = tf.flight_id\n",
    "    LEFT JOIN dst_project.aircrafts ac ON ac.aircraft_code = f.aircraft_code\n",
    "    LEFT JOIN dst_project.airports ai ON ai.airport_code = f.arrival_airport\n",
    "WHERE f.departure_airport = 'AAQ'\n",
    "  AND (date_trunc('month', f.scheduled_departure) in ('2017-01-01','2017-02-01', '2017-12-01'))\n",
    "  AND f.status not in ('Cancelled')\n",
    "GROUP BY 1,2,3,4,5 \n",
    "ORDER BY 1,2,4,3,5"
   ]
  }
 ],
 "metadata": {
  "kernelspec": {
   "display_name": "Python 3",
   "language": "python",
   "name": "python3"
  },
  "language_info": {
   "codemirror_mode": {
    "name": "ipython",
    "version": 3
   },
   "file_extension": ".py",
   "mimetype": "text/x-python",
   "name": "python",
   "nbconvert_exporter": "python",
   "pygments_lexer": "ipython3",
   "version": "3.8.3"
  }
 },
 "nbformat": 4,
 "nbformat_minor": 4
}
